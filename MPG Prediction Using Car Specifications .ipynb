{
 "cells": [
  {
   "cell_type": "markdown",
   "id": "cbcabb4b-125f-41bc-a36d-ac8fd5690146",
   "metadata": {},
   "source": [
    "#  **Importing Libraries**"
   ]
  },
  {
   "cell_type": "code",
   "execution_count": 1,
   "id": "5f850488-b182-4fdd-a204-196e477705a6",
   "metadata": {},
   "outputs": [],
   "source": [
    "import numpy as np \n",
    "import pandas as pd \n",
    "import seaborn as sns\n",
    "import matplotlib.pyplot as plt\n",
    "from statsmodels.tools.tools import add_constant\n",
    "from sklearn.preprocessing import StandardScaler\n",
    "from sklearn.model_selection import train_test_split,GridSearchCV\n",
    "from statsmodels.stats.outliers_influence import variance_inflation_factor\n",
    "from sklearn.feature_selection import SelectKBest,f_regression\n",
    "from sklearn.linear_model import LinearRegression,Ridge,Lasso,ElasticNet\n",
    "from sklearn import metrics\n",
    "from sklearn.metrics import mean_squared_error, mean_absolute_error, r2_score"
   ]
  },
  {
   "cell_type": "markdown",
   "id": "caa4ef9f-1728-4549-95c4-3a4f91a7cfc6",
   "metadata": {},
   "source": [
    "#  **Problem Statement**"
   ]
  },
  {
   "cell_type": "markdown",
   "id": "922577eb-15ee-4714-be50-6da1da1a4e8e",
   "metadata": {},
   "source": [
    "**Predict the MPG of a car given its characteristics using a linear regression model. Linear regression will help us understand the relationship between the independent variables (e.g., weight, horsepower) and the dependent variable (MPG).**"
   ]
  },
  {
   "cell_type": "markdown",
   "id": "0ca91179-2d64-4ae0-832e-50bc278b3446",
   "metadata": {},
   "source": [
    "# **Loading the DataSet**"
   ]
  },
  {
   "cell_type": "code",
   "execution_count": 2,
   "id": "63b3bdd6-feac-45a3-8d6f-020042eccbb5",
   "metadata": {},
   "outputs": [],
   "source": [
    "df = pd.read_csv('car-mpg.csv')"
   ]
  },
  {
   "cell_type": "markdown",
   "id": "894732d7-bf0e-4ca7-8358-ca9fccf1efdf",
   "metadata": {},
   "source": [
    "# **Reading the dataset**"
   ]
  },
  {
   "cell_type": "code",
   "execution_count": 3,
   "id": "e6290770-2d28-407a-9bfc-bf442ccf5064",
   "metadata": {},
   "outputs": [
    {
     "data": {
      "text/html": [
       "<div>\n",
       "<style scoped>\n",
       "    .dataframe tbody tr th:only-of-type {\n",
       "        vertical-align: middle;\n",
       "    }\n",
       "\n",
       "    .dataframe tbody tr th {\n",
       "        vertical-align: top;\n",
       "    }\n",
       "\n",
       "    .dataframe thead th {\n",
       "        text-align: right;\n",
       "    }\n",
       "</style>\n",
       "<table border=\"1\" class=\"dataframe\">\n",
       "  <thead>\n",
       "    <tr style=\"text-align: right;\">\n",
       "      <th></th>\n",
       "      <th>mpg</th>\n",
       "      <th>cyl</th>\n",
       "      <th>disp</th>\n",
       "      <th>hp</th>\n",
       "      <th>wt</th>\n",
       "      <th>acc</th>\n",
       "      <th>yr</th>\n",
       "      <th>origin</th>\n",
       "      <th>car_name</th>\n",
       "    </tr>\n",
       "  </thead>\n",
       "  <tbody>\n",
       "    <tr>\n",
       "      <th>0</th>\n",
       "      <td>18.0</td>\n",
       "      <td>8</td>\n",
       "      <td>307.0</td>\n",
       "      <td>130</td>\n",
       "      <td>3504</td>\n",
       "      <td>12.0</td>\n",
       "      <td>70</td>\n",
       "      <td>1</td>\n",
       "      <td>chevrolet chevelle malibu</td>\n",
       "    </tr>\n",
       "    <tr>\n",
       "      <th>1</th>\n",
       "      <td>15.0</td>\n",
       "      <td>8</td>\n",
       "      <td>350.0</td>\n",
       "      <td>165</td>\n",
       "      <td>3693</td>\n",
       "      <td>11.5</td>\n",
       "      <td>70</td>\n",
       "      <td>1</td>\n",
       "      <td>buick skylark 320</td>\n",
       "    </tr>\n",
       "    <tr>\n",
       "      <th>2</th>\n",
       "      <td>18.0</td>\n",
       "      <td>8</td>\n",
       "      <td>318.0</td>\n",
       "      <td>150</td>\n",
       "      <td>3436</td>\n",
       "      <td>11.0</td>\n",
       "      <td>70</td>\n",
       "      <td>1</td>\n",
       "      <td>plymouth satellite</td>\n",
       "    </tr>\n",
       "  </tbody>\n",
       "</table>\n",
       "</div>"
      ],
      "text/plain": [
       "    mpg  cyl   disp   hp    wt   acc  yr  origin                   car_name\n",
       "0  18.0    8  307.0  130  3504  12.0  70       1  chevrolet chevelle malibu\n",
       "1  15.0    8  350.0  165  3693  11.5  70       1          buick skylark 320\n",
       "2  18.0    8  318.0  150  3436  11.0  70       1         plymouth satellite"
      ]
     },
     "execution_count": 3,
     "metadata": {},
     "output_type": "execute_result"
    }
   ],
   "source": [
    "df.head(3)"
   ]
  },
  {
   "cell_type": "markdown",
   "id": "041d78e6-5faa-42f9-a83d-bdf7676c84b6",
   "metadata": {},
   "source": [
    "# **Defining Target variable and Problem type**"
   ]
  },
  {
   "cell_type": "markdown",
   "id": "f21ab7cd-5ebc-4886-8bce-54ff4c046903",
   "metadata": {},
   "source": [
    "**Target variable(y) =  mpg**\n",
    "\n",
    "**mpg** is continuous numeric column, so it is **Regression problem**."
   ]
  },
  {
   "cell_type": "markdown",
   "id": "b21ebaab-5b38-475c-8393-6390306aa91e",
   "metadata": {},
   "source": [
    "# **Shape of the dataset**"
   ]
  },
  {
   "cell_type": "code",
   "execution_count": 4,
   "id": "3a3533b3-0815-4538-8d07-2a9ccc429d32",
   "metadata": {},
   "outputs": [
    {
     "name": "stdout",
     "output_type": "stream",
     "text": [
      "Dataset contains 398 rows and 9 columns\n"
     ]
    }
   ],
   "source": [
    "print('Dataset contains',df.shape[0],'rows and', df.shape[1],'columns')"
   ]
  },
  {
   "cell_type": "markdown",
   "id": "cacf01f9-86ce-4584-9a64-ac2b35f9c4a8",
   "metadata": {},
   "source": [
    "# **Info/Datatype/Null values**"
   ]
  },
  {
   "cell_type": "code",
   "execution_count": 5,
   "id": "8053dba2-c117-4ef5-85df-8701bc9a6ab2",
   "metadata": {},
   "outputs": [
    {
     "name": "stdout",
     "output_type": "stream",
     "text": [
      "<class 'pandas.core.frame.DataFrame'>\n",
      "RangeIndex: 398 entries, 0 to 397\n",
      "Data columns (total 9 columns):\n",
      " #   Column    Non-Null Count  Dtype  \n",
      "---  ------    --------------  -----  \n",
      " 0   mpg       398 non-null    float64\n",
      " 1   cyl       398 non-null    int64  \n",
      " 2   disp      398 non-null    float64\n",
      " 3   hp        398 non-null    object \n",
      " 4   wt        398 non-null    int64  \n",
      " 5   acc       398 non-null    float64\n",
      " 6   yr        398 non-null    int64  \n",
      " 7   origin    398 non-null    int64  \n",
      " 8   car_name  398 non-null    object \n",
      "dtypes: float64(3), int64(4), object(2)\n",
      "memory usage: 28.1+ KB\n"
     ]
    }
   ],
   "source": [
    "df.info()"
   ]
  },
  {
   "cell_type": "markdown",
   "id": "d57d582a-8338-4662-a731-abd562aabc05",
   "metadata": {},
   "source": [
    "- The datatype of the **HP** column is incorrect; it should be **int**.\n",
    "- No missing values present in the dataset."
   ]
  },
  {
   "cell_type": "markdown",
   "id": "e6c253ac-f48e-4b3e-9c17-fdeea74865ea",
   "metadata": {},
   "source": [
    "# **Checking column names**"
   ]
  },
  {
   "cell_type": "code",
   "execution_count": 6,
   "id": "cd501e8c-1212-4ca1-a0c6-704c9b7cdf8d",
   "metadata": {},
   "outputs": [
    {
     "data": {
      "text/plain": [
       "Index(['mpg', 'cyl', 'disp', 'hp', 'wt', 'acc', 'yr', 'origin', 'car_name'], dtype='object')"
      ]
     },
     "execution_count": 6,
     "metadata": {},
     "output_type": "execute_result"
    }
   ],
   "source": [
    "df.columns"
   ]
  },
  {
   "cell_type": "markdown",
   "id": "628de6f6-1a6f-4829-b58e-f5d6d20f25ab",
   "metadata": {},
   "source": [
    "- The column names are correct."
   ]
  },
  {
   "cell_type": "markdown",
   "id": "a626bf4f-aebb-4ed9-96e6-7138fd878ce4",
   "metadata": {},
   "source": [
    "# **Correcting Datatype**"
   ]
  },
  {
   "cell_type": "code",
   "execution_count": 7,
   "id": "ecae1904-0246-4f9f-b1a7-bf7fd4910e42",
   "metadata": {},
   "outputs": [
    {
     "data": {
      "text/plain": [
       "array(['130', '165', '150', '140', '198', '220', '215', '225', '190',\n",
       "       '170', '160', '95', '97', '85', '88', '46', '87', '90', '113',\n",
       "       '200', '210', '193', '?', '100', '105', '175', '153', '180', '110',\n",
       "       '72', '86', '70', '76', '65', '69', '60', '80', '54', '208', '155',\n",
       "       '112', '92', '145', '137', '158', '167', '94', '107', '230', '49',\n",
       "       '75', '91', '122', '67', '83', '78', '52', '61', '93', '148',\n",
       "       '129', '96', '71', '98', '115', '53', '81', '79', '120', '152',\n",
       "       '102', '108', '68', '58', '149', '89', '63', '48', '66', '139',\n",
       "       '103', '125', '133', '138', '135', '142', '77', '62', '132', '84',\n",
       "       '64', '74', '116', '82'], dtype=object)"
      ]
     },
     "execution_count": 7,
     "metadata": {},
     "output_type": "execute_result"
    }
   ],
   "source": [
    "df.hp.unique()"
   ]
  },
  {
   "cell_type": "code",
   "execution_count": 8,
   "id": "29ad81da-3d26-4505-aa80-1690bebb1dc0",
   "metadata": {},
   "outputs": [],
   "source": [
    "df['hp'] = df.hp.replace('?',np.nan)"
   ]
  },
  {
   "cell_type": "code",
   "execution_count": 9,
   "id": "17e70938-86fb-4ba6-8c85-d5574081920b",
   "metadata": {},
   "outputs": [
    {
     "data": {
      "text/plain": [
       "array(['130', '165', '150', '140', '198', '220', '215', '225', '190',\n",
       "       '170', '160', '95', '97', '85', '88', '46', '87', '90', '113',\n",
       "       '200', '210', '193', nan, '100', '105', '175', '153', '180', '110',\n",
       "       '72', '86', '70', '76', '65', '69', '60', '80', '54', '208', '155',\n",
       "       '112', '92', '145', '137', '158', '167', '94', '107', '230', '49',\n",
       "       '75', '91', '122', '67', '83', '78', '52', '61', '93', '148',\n",
       "       '129', '96', '71', '98', '115', '53', '81', '79', '120', '152',\n",
       "       '102', '108', '68', '58', '149', '89', '63', '48', '66', '139',\n",
       "       '103', '125', '133', '138', '135', '142', '77', '62', '132', '84',\n",
       "       '64', '74', '116', '82'], dtype=object)"
      ]
     },
     "execution_count": 9,
     "metadata": {},
     "output_type": "execute_result"
    }
   ],
   "source": [
    "df.hp.unique()"
   ]
  },
  {
   "cell_type": "code",
   "execution_count": 10,
   "id": "9de3462e-5795-4545-b0da-09b14b1a38d2",
   "metadata": {},
   "outputs": [],
   "source": [
    "df['hp'] = df['hp'].astype(float)"
   ]
  },
  {
   "cell_type": "markdown",
   "id": "763ea0e1-8a77-491d-a8ad-216a7488b99c",
   "metadata": {},
   "source": [
    "# **Checking datatype corrected or not**"
   ]
  },
  {
   "cell_type": "code",
   "execution_count": 11,
   "id": "5a3f443a-9598-4102-95e4-f1c43a23e2df",
   "metadata": {},
   "outputs": [
    {
     "name": "stdout",
     "output_type": "stream",
     "text": [
      "<class 'pandas.core.frame.DataFrame'>\n",
      "RangeIndex: 398 entries, 0 to 397\n",
      "Data columns (total 9 columns):\n",
      " #   Column    Non-Null Count  Dtype  \n",
      "---  ------    --------------  -----  \n",
      " 0   mpg       398 non-null    float64\n",
      " 1   cyl       398 non-null    int64  \n",
      " 2   disp      398 non-null    float64\n",
      " 3   hp        392 non-null    float64\n",
      " 4   wt        398 non-null    int64  \n",
      " 5   acc       398 non-null    float64\n",
      " 6   yr        398 non-null    int64  \n",
      " 7   origin    398 non-null    int64  \n",
      " 8   car_name  398 non-null    object \n",
      "dtypes: float64(4), int64(4), object(1)\n",
      "memory usage: 28.1+ KB\n"
     ]
    }
   ],
   "source": [
    "df.info()"
   ]
  },
  {
   "cell_type": "markdown",
   "id": "0a08f399-a2db-4a99-8781-e175a3c82aae",
   "metadata": {},
   "source": [
    "- Datatype corrected now."
   ]
  },
  {
   "cell_type": "markdown",
   "id": "bf02f35f-b8fa-4391-9d43-cb2acdfe1f3a",
   "metadata": {},
   "source": [
    "# **5 Point summary**"
   ]
  },
  {
   "cell_type": "code",
   "execution_count": 12,
   "id": "8c1487e0-08b5-41c8-9fff-a90de1b3a5af",
   "metadata": {},
   "outputs": [
    {
     "data": {
      "text/html": [
       "<div>\n",
       "<style scoped>\n",
       "    .dataframe tbody tr th:only-of-type {\n",
       "        vertical-align: middle;\n",
       "    }\n",
       "\n",
       "    .dataframe tbody tr th {\n",
       "        vertical-align: top;\n",
       "    }\n",
       "\n",
       "    .dataframe thead th {\n",
       "        text-align: right;\n",
       "    }\n",
       "</style>\n",
       "<table border=\"1\" class=\"dataframe\">\n",
       "  <thead>\n",
       "    <tr style=\"text-align: right;\">\n",
       "      <th></th>\n",
       "      <th>count</th>\n",
       "      <th>mean</th>\n",
       "      <th>std</th>\n",
       "      <th>min</th>\n",
       "      <th>25%</th>\n",
       "      <th>50%</th>\n",
       "      <th>75%</th>\n",
       "      <th>max</th>\n",
       "    </tr>\n",
       "  </thead>\n",
       "  <tbody>\n",
       "    <tr>\n",
       "      <th>mpg</th>\n",
       "      <td>398.0</td>\n",
       "      <td>23.514573</td>\n",
       "      <td>7.815984</td>\n",
       "      <td>9.0</td>\n",
       "      <td>17.500</td>\n",
       "      <td>23.0</td>\n",
       "      <td>29.000</td>\n",
       "      <td>46.6</td>\n",
       "    </tr>\n",
       "    <tr>\n",
       "      <th>cyl</th>\n",
       "      <td>398.0</td>\n",
       "      <td>5.454774</td>\n",
       "      <td>1.701004</td>\n",
       "      <td>3.0</td>\n",
       "      <td>4.000</td>\n",
       "      <td>4.0</td>\n",
       "      <td>8.000</td>\n",
       "      <td>8.0</td>\n",
       "    </tr>\n",
       "    <tr>\n",
       "      <th>disp</th>\n",
       "      <td>398.0</td>\n",
       "      <td>193.425879</td>\n",
       "      <td>104.269838</td>\n",
       "      <td>68.0</td>\n",
       "      <td>104.250</td>\n",
       "      <td>148.5</td>\n",
       "      <td>262.000</td>\n",
       "      <td>455.0</td>\n",
       "    </tr>\n",
       "    <tr>\n",
       "      <th>hp</th>\n",
       "      <td>392.0</td>\n",
       "      <td>104.469388</td>\n",
       "      <td>38.491160</td>\n",
       "      <td>46.0</td>\n",
       "      <td>75.000</td>\n",
       "      <td>93.5</td>\n",
       "      <td>126.000</td>\n",
       "      <td>230.0</td>\n",
       "    </tr>\n",
       "    <tr>\n",
       "      <th>wt</th>\n",
       "      <td>398.0</td>\n",
       "      <td>2970.424623</td>\n",
       "      <td>846.841774</td>\n",
       "      <td>1613.0</td>\n",
       "      <td>2223.750</td>\n",
       "      <td>2803.5</td>\n",
       "      <td>3608.000</td>\n",
       "      <td>5140.0</td>\n",
       "    </tr>\n",
       "    <tr>\n",
       "      <th>acc</th>\n",
       "      <td>398.0</td>\n",
       "      <td>15.568090</td>\n",
       "      <td>2.757689</td>\n",
       "      <td>8.0</td>\n",
       "      <td>13.825</td>\n",
       "      <td>15.5</td>\n",
       "      <td>17.175</td>\n",
       "      <td>24.8</td>\n",
       "    </tr>\n",
       "    <tr>\n",
       "      <th>yr</th>\n",
       "      <td>398.0</td>\n",
       "      <td>76.010050</td>\n",
       "      <td>3.697627</td>\n",
       "      <td>70.0</td>\n",
       "      <td>73.000</td>\n",
       "      <td>76.0</td>\n",
       "      <td>79.000</td>\n",
       "      <td>82.0</td>\n",
       "    </tr>\n",
       "    <tr>\n",
       "      <th>origin</th>\n",
       "      <td>398.0</td>\n",
       "      <td>1.572864</td>\n",
       "      <td>0.802055</td>\n",
       "      <td>1.0</td>\n",
       "      <td>1.000</td>\n",
       "      <td>1.0</td>\n",
       "      <td>2.000</td>\n",
       "      <td>3.0</td>\n",
       "    </tr>\n",
       "  </tbody>\n",
       "</table>\n",
       "</div>"
      ],
      "text/plain": [
       "        count         mean         std     min       25%     50%       75%  \\\n",
       "mpg     398.0    23.514573    7.815984     9.0    17.500    23.0    29.000   \n",
       "cyl     398.0     5.454774    1.701004     3.0     4.000     4.0     8.000   \n",
       "disp    398.0   193.425879  104.269838    68.0   104.250   148.5   262.000   \n",
       "hp      392.0   104.469388   38.491160    46.0    75.000    93.5   126.000   \n",
       "wt      398.0  2970.424623  846.841774  1613.0  2223.750  2803.5  3608.000   \n",
       "acc     398.0    15.568090    2.757689     8.0    13.825    15.5    17.175   \n",
       "yr      398.0    76.010050    3.697627    70.0    73.000    76.0    79.000   \n",
       "origin  398.0     1.572864    0.802055     1.0     1.000     1.0     2.000   \n",
       "\n",
       "           max  \n",
       "mpg       46.6  \n",
       "cyl        8.0  \n",
       "disp     455.0  \n",
       "hp       230.0  \n",
       "wt      5140.0  \n",
       "acc       24.8  \n",
       "yr        82.0  \n",
       "origin     3.0  "
      ]
     },
     "execution_count": 12,
     "metadata": {},
     "output_type": "execute_result"
    }
   ],
   "source": [
    "df.describe().T"
   ]
  },
  {
   "cell_type": "code",
   "execution_count": 13,
   "id": "61ff3929-966b-4175-a3c4-7d625680d95c",
   "metadata": {},
   "outputs": [
    {
     "data": {
      "text/html": [
       "<div>\n",
       "<style scoped>\n",
       "    .dataframe tbody tr th:only-of-type {\n",
       "        vertical-align: middle;\n",
       "    }\n",
       "\n",
       "    .dataframe tbody tr th {\n",
       "        vertical-align: top;\n",
       "    }\n",
       "\n",
       "    .dataframe thead th {\n",
       "        text-align: right;\n",
       "    }\n",
       "</style>\n",
       "<table border=\"1\" class=\"dataframe\">\n",
       "  <thead>\n",
       "    <tr style=\"text-align: right;\">\n",
       "      <th></th>\n",
       "      <th>count</th>\n",
       "      <th>unique</th>\n",
       "      <th>top</th>\n",
       "      <th>freq</th>\n",
       "    </tr>\n",
       "  </thead>\n",
       "  <tbody>\n",
       "    <tr>\n",
       "      <th>car_name</th>\n",
       "      <td>398</td>\n",
       "      <td>305</td>\n",
       "      <td>ford pinto</td>\n",
       "      <td>6</td>\n",
       "    </tr>\n",
       "  </tbody>\n",
       "</table>\n",
       "</div>"
      ],
      "text/plain": [
       "         count unique         top freq\n",
       "car_name   398    305  ford pinto    6"
      ]
     },
     "execution_count": 13,
     "metadata": {},
     "output_type": "execute_result"
    }
   ],
   "source": [
    "df.describe(include = 'object').T"
   ]
  },
  {
   "cell_type": "markdown",
   "id": "b364636e-1da0-4c38-b21e-c4dccc7098c2",
   "metadata": {},
   "source": [
    "# **Descripency Check**"
   ]
  },
  {
   "cell_type": "code",
   "execution_count": 14,
   "id": "36448d7a-7ca9-4453-95c7-77220160ff5d",
   "metadata": {},
   "outputs": [
    {
     "data": {
      "text/plain": [
       "car_name\n",
       "ford pinto             6\n",
       "toyota corolla         5\n",
       "amc matador            5\n",
       "ford maverick          5\n",
       "chevrolet chevette     4\n",
       "                      ..\n",
       "chevrolet monza 2+2    1\n",
       "ford mustang ii        1\n",
       "pontiac astro          1\n",
       "amc pacer              1\n",
       "chevy s-10             1\n",
       "Name: count, Length: 305, dtype: int64"
      ]
     },
     "execution_count": 14,
     "metadata": {},
     "output_type": "execute_result"
    }
   ],
   "source": [
    "df.car_name.value_counts()"
   ]
  },
  {
   "cell_type": "markdown",
   "id": "307fa512-6b2a-4976-b37d-c675c999ed87",
   "metadata": {},
   "source": [
    "# **Null Value check**"
   ]
  },
  {
   "cell_type": "code",
   "execution_count": 15,
   "id": "1a1d0e28-fc3e-40c4-a06f-5aea9fe435d6",
   "metadata": {},
   "outputs": [
    {
     "data": {
      "text/plain": [
       "mpg         0\n",
       "cyl         0\n",
       "disp        0\n",
       "hp          6\n",
       "wt          0\n",
       "acc         0\n",
       "yr          0\n",
       "origin      0\n",
       "car_name    0\n",
       "dtype: int64"
      ]
     },
     "execution_count": 15,
     "metadata": {},
     "output_type": "execute_result"
    }
   ],
   "source": [
    "df.isna().sum()"
   ]
  },
  {
   "cell_type": "markdown",
   "id": "a390b610-bb5a-4ec2-bac8-48770551ea27",
   "metadata": {},
   "source": [
    " ### Observation:\n",
    "- Only `hp` has missing values. Rows with missing values will be dropped to avoid data leakage."
   ]
  },
  {
   "cell_type": "markdown",
   "id": "fc4fea48-4202-42d4-8359-5d3d4728b752",
   "metadata": {},
   "source": [
    "# **Dropping missing values**"
   ]
  },
  {
   "cell_type": "code",
   "execution_count": 16,
   "id": "14a28cca-0b5d-40f6-be1f-15da5ea9d819",
   "metadata": {},
   "outputs": [],
   "source": [
    "df = df.dropna()"
   ]
  },
  {
   "cell_type": "markdown",
   "id": "27fc1557-5c17-4bd4-91c8-405e9d74adc2",
   "metadata": {},
   "source": [
    "# **Null Value Check After Treatment**"
   ]
  },
  {
   "cell_type": "code",
   "execution_count": 17,
   "id": "2c9cfd21-c6a3-4bda-8116-c49f00383fb7",
   "metadata": {},
   "outputs": [
    {
     "data": {
      "text/plain": [
       "mpg         0\n",
       "cyl         0\n",
       "disp        0\n",
       "hp          0\n",
       "wt          0\n",
       "acc         0\n",
       "yr          0\n",
       "origin      0\n",
       "car_name    0\n",
       "dtype: int64"
      ]
     },
     "execution_count": 17,
     "metadata": {},
     "output_type": "execute_result"
    }
   ],
   "source": [
    "df.isna().sum()"
   ]
  },
  {
   "cell_type": "markdown",
   "id": "bc4feda6-4088-4027-adef-95f469a443ff",
   "metadata": {},
   "source": [
    "- Null values are dropped."
   ]
  },
  {
   "cell_type": "markdown",
   "id": "3637cb39-ba2f-459d-b54d-1d49f3936f0f",
   "metadata": {},
   "source": [
    "# **Check duplicate values**"
   ]
  },
  {
   "cell_type": "code",
   "execution_count": 18,
   "id": "55739ec2-fe1c-4430-90f5-0a19cc4135cd",
   "metadata": {},
   "outputs": [
    {
     "data": {
      "text/plain": [
       "0"
      ]
     },
     "execution_count": 18,
     "metadata": {},
     "output_type": "execute_result"
    }
   ],
   "source": [
    "df.duplicated().sum()"
   ]
  },
  {
   "cell_type": "markdown",
   "id": "cf7b2e46-1aa0-4c51-a082-e6e3a1b8c594",
   "metadata": {},
   "source": [
    "- No duplicate values present"
   ]
  },
  {
   "cell_type": "markdown",
   "id": "5d253835-77e2-492c-afc7-6fadb2442556",
   "metadata": {},
   "source": [
    "# **Univariate Analysis**"
   ]
  },
  {
   "cell_type": "code",
   "execution_count": 19,
   "id": "72063889-9141-4d39-a542-dcc4a5dfd86d",
   "metadata": {},
   "outputs": [],
   "source": [
    "cont_col = df.select_dtypes(include = 'number')"
   ]
  },
  {
   "cell_type": "code",
   "execution_count": 20,
   "id": "58ef706c-fe30-4759-843a-e20a02878495",
   "metadata": {},
   "outputs": [
    {
     "data": {
      "image/png": "[encoded data removed]",
      "text/plain": [
       "<Figure size 600x600 with 1 Axes>"
      ]
     },
     "metadata": {},
     "output_type": "display_data"
    },
    {
     "data": {
      "image/png": "[encoded data removed]",
      "text/plain": [
       "<Figure size 600x600 with 1 Axes>"
      ]
     },
     "metadata": {},
     "output_type": "display_data"
    },
    {
     "data": {
      "image/png": "[encoded data removed]",
      "text/plain": [
       "<Figure size 600x600 with 1 Axes>"
      ]
     },
     "metadata": {},
     "output_type": "display_data"
    },
    {
     "data": {
      "image/png": "[encoded data removed]",
      "text/plain": [
       "<Figure size 600x600 with 1 Axes>"
      ]
     },
     "metadata": {},
     "output_type": "display_data"
    },
    {
     "data": {
      "image/png": "[encoded data removed]",
      "text/plain": [
       "<Figure size 600x600 with 1 Axes>"
      ]
     },
     "metadata": {},
     "output_type": "display_data"
    },
    {
     "data": {
      "image/png": "[encoded data removed]",
      "text/plain": [
       "<Figure size 600x600 with 1 Axes>"
      ]
     },
     "metadata": {},
     "output_type": "display_data"
    },
    {
     "data": {
      "image/png": "[encoded data removed]",
      "text/plain": [
       "<Figure size 600x600 with 1 Axes>"
      ]
     },
     "metadata": {},
     "output_type": "display_data"
    },
    {
     "data": {
      "image/png": "[encoded data removed]",
      "text/plain": [
       "<Figure size 600x600 with 1 Axes>"
      ]
     },
     "metadata": {},
     "output_type": "display_data"
    }
   ],
   "source": [
    "for i in cont_col:\n",
    "    plt.figure(figsize =(6,6))\n",
    "    sns.histplot(data = df,x=i)\n",
    "    plt.show()"
   ]
  },
  {
   "cell_type": "markdown",
   "id": "6bd9fbb7-c0ca-4e66-9d3d-9b40febcdcaf",
   "metadata": {},
   "source": [
    "# **Outlier check**"
   ]
  },
  {
   "cell_type": "code",
   "execution_count": 21,
   "id": "56ab117f-08cc-4a78-8a8f-928cbcd9a529",
   "metadata": {},
   "outputs": [
    {
     "data": {
      "image/png": "[encoded data removed]",
      "text/plain": [
       "<Figure size 640x480 with 1 Axes>"
      ]
     },
     "metadata": {},
     "output_type": "display_data"
    },
    {
     "data": {
      "image/png": "[encoded data removed]",
      "text/plain": [
       "<Figure size 640x480 with 1 Axes>"
      ]
     },
     "metadata": {},
     "output_type": "display_data"
    },
    {
     "data": {
      "image/png": "[encoded data removed]",
      "text/plain": [
       "<Figure size 640x480 with 1 Axes>"
      ]
     },
     "metadata": {},
     "output_type": "display_data"
    },
    {
     "data": {
      "image/png": "[encoded data removed]",
      "text/plain": [
       "<Figure size 640x480 with 1 Axes>"
      ]
     },
     "metadata": {},
     "output_type": "display_data"
    },
    {
     "data": {
      "image/png": "[encoded data removed]",
      "text/plain": [
       "<Figure size 640x480 with 1 Axes>"
      ]
     },
     "metadata": {},
     "output_type": "display_data"
    },
    {
     "data": {
      "image/png": "[encoded data removed]",
      "text/plain": [
       "<Figure size 640x480 with 1 Axes>"
      ]
     },
     "metadata": {},
     "output_type": "display_data"
    },
    {
     "data": {
      "image/png": "[encoded data removed]",
      "text/plain": [
       "<Figure size 640x480 with 1 Axes>"
      ]
     },
     "metadata": {},
     "output_type": "display_data"
    },
    {
     "data": {
      "image/png": "[encoded data removed]",
      "text/plain": [
       "<Figure size 640x480 with 1 Axes>"
      ]
     },
     "metadata": {},
     "output_type": "display_data"
    }
   ],
   "source": [
    "for i in cont_col:\n",
    "    sns.boxplot(data=df,x = i)\n",
    "    plt.show()"
   ]
  },
  {
   "cell_type": "markdown",
   "id": "9972c07c-2c6f-483d-9de4-f834d9d8010a",
   "metadata": {},
   "source": [
    "### Observation:\n",
    "- Columns `acc`, and `hp` have visible outliers.\n",
    "- - These will be capped using the IQR method to prevent model distortion."
   ]
  },
  {
   "cell_type": "markdown",
   "id": "a532c8ec-4739-488f-b777-e5abcf86fce5",
   "metadata": {},
   "source": [
    "# **Outlier Treatment**"
   ]
  },
  {
   "cell_type": "code",
   "execution_count": 22,
   "id": "24647110-41b7-41a5-b967-25a7ab5d2c96",
   "metadata": {},
   "outputs": [],
   "source": [
    "for i in cont_col:\n",
    "    q1 = df[i].quantile(0.25)\n",
    "    q3 = df[i].quantile(0.75)\n",
    "    iqr = q3 - q1 \n",
    "    upper_limit = q3+1.5*iqr\n",
    "    lower_limit = q1-1.5*iqr\n",
    "    df[i] = df[i].clip(lower = lower_limit,upper = upper_limit)"
   ]
  },
  {
   "cell_type": "markdown",
   "id": "4f4c3147-fc87-43f2-99a8-bfe13f6bbcfd",
   "metadata": {},
   "source": [
    "# **Again Checking ouliter treated or not**"
   ]
  },
  {
   "cell_type": "code",
   "execution_count": 23,
   "id": "481af04e-0646-4af6-b2f9-3fbac8f5b4b7",
   "metadata": {},
   "outputs": [
    {
     "data": {
      "image/png": "[encoded data removed]",
      "text/plain": [
       "<Figure size 640x480 with 1 Axes>"
      ]
     },
     "metadata": {},
     "output_type": "display_data"
    },
    {
     "data": {
      "image/png": "[encoded data removed]",
      "text/plain": [
       "<Figure size 640x480 with 1 Axes>"
      ]
     },
     "metadata": {},
     "output_type": "display_data"
    },
    {
     "data": {
      "image/png": "[encoded data removed]",
      "text/plain": [
       "<Figure size 640x480 with 1 Axes>"
      ]
     },
     "metadata": {},
     "output_type": "display_data"
    },
    {
     "data": {
      "image/png": "[encoded data removed]",
      "text/plain": [
       "<Figure size 640x480 with 1 Axes>"
      ]
     },
     "metadata": {},
     "output_type": "display_data"
    },
    {
     "data": {
      "image/png": "[encoded data removed]",
      "text/plain": [
       "<Figure size 640x480 with 1 Axes>"
      ]
     },
     "metadata": {},
     "output_type": "display_data"
    },
    {
     "data": {
      "image/png": "[encoded data removed]",
      "text/plain": [
       "<Figure size 640x480 with 1 Axes>"
      ]
     },
     "metadata": {},
     "output_type": "display_data"
    },
    {
     "data": {
      "image/png": "[encoded data removed]",
      "text/plain": [
       "<Figure size 640x480 with 1 Axes>"
      ]
     },
     "metadata": {},
     "output_type": "display_data"
    },
    {
     "data": {
      "image/png": "[encoded data removed]",
      "text/plain": [
       "<Figure size 640x480 with 1 Axes>"
      ]
     },
     "metadata": {},
     "output_type": "display_data"
    }
   ],
   "source": [
    "for i in cont_col:\n",
    "    sns.boxplot(data=df,x = i)\n",
    "    plt.show()"
   ]
  },
  {
   "cell_type": "markdown",
   "id": "727737b0-fc0f-4b64-975c-d7ceb883dceb",
   "metadata": {},
   "source": [
    "- Outliers removed."
   ]
  },
  {
   "cell_type": "markdown",
   "id": "c18c7e53-3a95-4f01-a6ab-5c51c7688843",
   "metadata": {},
   "source": [
    "# **Bivariate Analysis**"
   ]
  },
  {
   "cell_type": "code",
   "execution_count": 24,
   "id": "47fbb83d-5145-4c7b-87c6-b29143f1256d",
   "metadata": {},
   "outputs": [
    {
     "data": {
      "text/plain": [
       "<Axes: >"
      ]
     },
     "execution_count": 24,
     "metadata": {},
     "output_type": "execute_result"
    },
    {
     "data": {
      "image/png": "[encoded data removed]",
      "text/plain": [
       "<Figure size 640x480 with 2 Axes>"
      ]
     },
     "metadata": {},
     "output_type": "display_data"
    }
   ],
   "source": [
    "sns.heatmap(data=cont_col.corr(), annot=True, cmap='Blues')"
   ]
  },
  {
   "cell_type": "markdown",
   "id": "abf89084-2f45-4e58-b92f-b821827c36ea",
   "metadata": {},
   "source": [
    "### Observation:\n",
    "- `yr` (model year) has strong positive correlation with `mpg`.\n",
    "- `wt` and `hp` show strong **negative** correlation with `mpg`"
   ]
  },
  {
   "cell_type": "markdown",
   "id": "e43849aa-0545-48cd-86de-90991003d0a7",
   "metadata": {},
   "source": [
    "# **Analyzing Relationships Between Features and Target (MPG)**"
   ]
  },
  {
   "cell_type": "code",
   "execution_count": 25,
   "id": "9a0b7bca-80a1-4df8-b709-73408615531f",
   "metadata": {},
   "outputs": [
    {
     "data": {
      "text/html": [
       "<div>\n",
       "<style scoped>\n",
       "    .dataframe tbody tr th:only-of-type {\n",
       "        vertical-align: middle;\n",
       "    }\n",
       "\n",
       "    .dataframe tbody tr th {\n",
       "        vertical-align: top;\n",
       "    }\n",
       "\n",
       "    .dataframe thead th {\n",
       "        text-align: right;\n",
       "    }\n",
       "</style>\n",
       "<table border=\"1\" class=\"dataframe\">\n",
       "  <thead>\n",
       "    <tr style=\"text-align: right;\">\n",
       "      <th></th>\n",
       "      <th>Feature</th>\n",
       "      <th>Correlation_with_MPG</th>\n",
       "    </tr>\n",
       "  </thead>\n",
       "  <tbody>\n",
       "    <tr>\n",
       "      <th>0</th>\n",
       "      <td>mpg</td>\n",
       "      <td>1.000000</td>\n",
       "    </tr>\n",
       "    <tr>\n",
       "      <th>1</th>\n",
       "      <td>yr</td>\n",
       "      <td>0.580541</td>\n",
       "    </tr>\n",
       "    <tr>\n",
       "      <th>2</th>\n",
       "      <td>origin</td>\n",
       "      <td>0.565209</td>\n",
       "    </tr>\n",
       "    <tr>\n",
       "      <th>3</th>\n",
       "      <td>acc</td>\n",
       "      <td>0.421393</td>\n",
       "    </tr>\n",
       "    <tr>\n",
       "      <th>4</th>\n",
       "      <td>cyl</td>\n",
       "      <td>-0.777618</td>\n",
       "    </tr>\n",
       "    <tr>\n",
       "      <th>5</th>\n",
       "      <td>hp</td>\n",
       "      <td>-0.788856</td>\n",
       "    </tr>\n",
       "    <tr>\n",
       "      <th>6</th>\n",
       "      <td>disp</td>\n",
       "      <td>-0.805127</td>\n",
       "    </tr>\n",
       "    <tr>\n",
       "      <th>7</th>\n",
       "      <td>wt</td>\n",
       "      <td>-0.832244</td>\n",
       "    </tr>\n",
       "  </tbody>\n",
       "</table>\n",
       "</div>"
      ],
      "text/plain": [
       "  Feature  Correlation_with_MPG\n",
       "0     mpg              1.000000\n",
       "1      yr              0.580541\n",
       "2  origin              0.565209\n",
       "3     acc              0.421393\n",
       "4     cyl             -0.777618\n",
       "5      hp             -0.788856\n",
       "6    disp             -0.805127\n",
       "7      wt             -0.832244"
      ]
     },
     "execution_count": 25,
     "metadata": {},
     "output_type": "execute_result"
    }
   ],
   "source": [
    "correlations = df.corr(numeric_only=True)['mpg'].sort_values(ascending=False).reset_index().rename(columns={'index': 'Feature', 'mpg': 'Correlation_with_MPG'})\n",
    "correlations"
   ]
  },
  {
   "cell_type": "markdown",
   "id": "934dcdce-1030-44cd-950d-ddb2d1247428",
   "metadata": {},
   "source": [
    "# **Checking Multicoliniarity**"
   ]
  },
  {
   "cell_type": "code",
   "execution_count": 26,
   "id": "bdee1c99-71d8-4cf3-af9e-3cd035873104",
   "metadata": {},
   "outputs": [
    {
     "data": {
      "text/html": [
       "<div>\n",
       "<style scoped>\n",
       "    .dataframe tbody tr th:only-of-type {\n",
       "        vertical-align: middle;\n",
       "    }\n",
       "\n",
       "    .dataframe tbody tr th {\n",
       "        vertical-align: top;\n",
       "    }\n",
       "\n",
       "    .dataframe thead th {\n",
       "        text-align: right;\n",
       "    }\n",
       "</style>\n",
       "<table border=\"1\" class=\"dataframe\">\n",
       "  <thead>\n",
       "    <tr style=\"text-align: right;\">\n",
       "      <th></th>\n",
       "      <th>Feature</th>\n",
       "      <th>VIF</th>\n",
       "    </tr>\n",
       "  </thead>\n",
       "  <tbody>\n",
       "    <tr>\n",
       "      <th>0</th>\n",
       "      <td>cyl</td>\n",
       "      <td>10.612781</td>\n",
       "    </tr>\n",
       "    <tr>\n",
       "      <th>1</th>\n",
       "      <td>disp</td>\n",
       "      <td>21.095814</td>\n",
       "    </tr>\n",
       "    <tr>\n",
       "      <th>2</th>\n",
       "      <td>hp</td>\n",
       "      <td>11.150699</td>\n",
       "    </tr>\n",
       "    <tr>\n",
       "      <th>3</th>\n",
       "      <td>wt</td>\n",
       "      <td>11.696694</td>\n",
       "    </tr>\n",
       "    <tr>\n",
       "      <th>4</th>\n",
       "      <td>acc</td>\n",
       "      <td>2.857253</td>\n",
       "    </tr>\n",
       "    <tr>\n",
       "      <th>5</th>\n",
       "      <td>yr</td>\n",
       "      <td>1.252293</td>\n",
       "    </tr>\n",
       "    <tr>\n",
       "      <th>6</th>\n",
       "      <td>origin</td>\n",
       "      <td>1.763531</td>\n",
       "    </tr>\n",
       "  </tbody>\n",
       "</table>\n",
       "</div>"
      ],
      "text/plain": [
       "  Feature        VIF\n",
       "0     cyl  10.612781\n",
       "1    disp  21.095814\n",
       "2      hp  11.150699\n",
       "3      wt  11.696694\n",
       "4     acc   2.857253\n",
       "5      yr   1.252293\n",
       "6  origin   1.763531"
      ]
     },
     "execution_count": 26,
     "metadata": {},
     "output_type": "execute_result"
    }
   ],
   "source": [
    "X_numeric = df.drop(columns=['mpg', 'car_name'])\n",
    "X_const = add_constant(X_numeric)\n",
    "vif = pd.DataFrame()\n",
    "vif['Feature'] = X_const.columns\n",
    "vif['VIF'] = [variance_inflation_factor(X_const.values, i) for i in range(X_const.shape[1])]\n",
    "vif = vif.iloc[1:].reset_index(drop=True)\n",
    "vif"
   ]
  },
  {
   "cell_type": "markdown",
   "id": "d31762ee-bf49-4fd8-87a3-a801f139bf5b",
   "metadata": {},
   "source": [
    "# **Scatter Plots: Relationship with MPG**"
   ]
  },
  {
   "cell_type": "code",
   "execution_count": 27,
   "id": "32efcd27-fa36-4758-82c6-52a9ae33ed0a",
   "metadata": {},
   "outputs": [
    {
     "data": {
      "image/png": "[encoded data removed]",
      "text/plain": [
       "<Figure size 600x400 with 1 Axes>"
      ]
     },
     "metadata": {},
     "output_type": "display_data"
    },
    {
     "data": {
      "image/png": "[encoded data removed]",
      "text/plain": [
       "<Figure size 600x400 with 1 Axes>"
      ]
     },
     "metadata": {},
     "output_type": "display_data"
    },
    {
     "data": {
      "image/png": "[encoded data removed]",
      "text/plain": [
       "<Figure size 600x400 with 1 Axes>"
      ]
     },
     "metadata": {},
     "output_type": "display_data"
    }
   ],
   "source": [
    "features = ['hp', 'wt', 'cyl']\n",
    "for feature in features:\n",
    "    plt.figure(figsize=(6, 4))\n",
    "    sns.scatterplot(x=feature, y='mpg', data=df)\n",
    "    plt.title(f'{feature.upper()} vs MPG')\n",
    "    plt.xlabel(feature.upper())\n",
    "    plt.ylabel('MPG')\n",
    "    plt.show()"
   ]
  },
  {
   "cell_type": "markdown",
   "id": "b551cbf6-3a3a-4fa6-8f81-6c67c467e85b",
   "metadata": {},
   "source": [
    "# **Dropping Irrelevant Columns from Feature Set**"
   ]
  },
  {
   "cell_type": "code",
   "execution_count": 28,
   "id": "28729039-fb3f-4cf9-9790-43e8ccbe4ee4",
   "metadata": {},
   "outputs": [
    {
     "data": {
      "text/html": [
       "<div>\n",
       "<style scoped>\n",
       "    .dataframe tbody tr th:only-of-type {\n",
       "        vertical-align: middle;\n",
       "    }\n",
       "\n",
       "    .dataframe tbody tr th {\n",
       "        vertical-align: top;\n",
       "    }\n",
       "\n",
       "    .dataframe thead th {\n",
       "        text-align: right;\n",
       "    }\n",
       "</style>\n",
       "<table border=\"1\" class=\"dataframe\">\n",
       "  <thead>\n",
       "    <tr style=\"text-align: right;\">\n",
       "      <th></th>\n",
       "      <th>mpg</th>\n",
       "      <th>cyl</th>\n",
       "      <th>disp</th>\n",
       "      <th>hp</th>\n",
       "      <th>wt</th>\n",
       "      <th>acc</th>\n",
       "      <th>yr</th>\n",
       "      <th>origin</th>\n",
       "    </tr>\n",
       "  </thead>\n",
       "  <tbody>\n",
       "    <tr>\n",
       "      <th>0</th>\n",
       "      <td>18.0</td>\n",
       "      <td>8</td>\n",
       "      <td>307.0</td>\n",
       "      <td>130.0</td>\n",
       "      <td>3504</td>\n",
       "      <td>12.0</td>\n",
       "      <td>70</td>\n",
       "      <td>1</td>\n",
       "    </tr>\n",
       "    <tr>\n",
       "      <th>1</th>\n",
       "      <td>15.0</td>\n",
       "      <td>8</td>\n",
       "      <td>350.0</td>\n",
       "      <td>165.0</td>\n",
       "      <td>3693</td>\n",
       "      <td>11.5</td>\n",
       "      <td>70</td>\n",
       "      <td>1</td>\n",
       "    </tr>\n",
       "    <tr>\n",
       "      <th>2</th>\n",
       "      <td>18.0</td>\n",
       "      <td>8</td>\n",
       "      <td>318.0</td>\n",
       "      <td>150.0</td>\n",
       "      <td>3436</td>\n",
       "      <td>11.0</td>\n",
       "      <td>70</td>\n",
       "      <td>1</td>\n",
       "    </tr>\n",
       "    <tr>\n",
       "      <th>3</th>\n",
       "      <td>16.0</td>\n",
       "      <td>8</td>\n",
       "      <td>304.0</td>\n",
       "      <td>150.0</td>\n",
       "      <td>3433</td>\n",
       "      <td>12.0</td>\n",
       "      <td>70</td>\n",
       "      <td>1</td>\n",
       "    </tr>\n",
       "    <tr>\n",
       "      <th>4</th>\n",
       "      <td>17.0</td>\n",
       "      <td>8</td>\n",
       "      <td>302.0</td>\n",
       "      <td>140.0</td>\n",
       "      <td>3449</td>\n",
       "      <td>10.5</td>\n",
       "      <td>70</td>\n",
       "      <td>1</td>\n",
       "    </tr>\n",
       "    <tr>\n",
       "      <th>...</th>\n",
       "      <td>...</td>\n",
       "      <td>...</td>\n",
       "      <td>...</td>\n",
       "      <td>...</td>\n",
       "      <td>...</td>\n",
       "      <td>...</td>\n",
       "      <td>...</td>\n",
       "      <td>...</td>\n",
       "    </tr>\n",
       "    <tr>\n",
       "      <th>393</th>\n",
       "      <td>27.0</td>\n",
       "      <td>4</td>\n",
       "      <td>140.0</td>\n",
       "      <td>86.0</td>\n",
       "      <td>2790</td>\n",
       "      <td>15.6</td>\n",
       "      <td>82</td>\n",
       "      <td>1</td>\n",
       "    </tr>\n",
       "    <tr>\n",
       "      <th>394</th>\n",
       "      <td>44.0</td>\n",
       "      <td>4</td>\n",
       "      <td>97.0</td>\n",
       "      <td>52.0</td>\n",
       "      <td>2130</td>\n",
       "      <td>21.9</td>\n",
       "      <td>82</td>\n",
       "      <td>2</td>\n",
       "    </tr>\n",
       "    <tr>\n",
       "      <th>395</th>\n",
       "      <td>32.0</td>\n",
       "      <td>4</td>\n",
       "      <td>135.0</td>\n",
       "      <td>84.0</td>\n",
       "      <td>2295</td>\n",
       "      <td>11.6</td>\n",
       "      <td>82</td>\n",
       "      <td>1</td>\n",
       "    </tr>\n",
       "    <tr>\n",
       "      <th>396</th>\n",
       "      <td>28.0</td>\n",
       "      <td>4</td>\n",
       "      <td>120.0</td>\n",
       "      <td>79.0</td>\n",
       "      <td>2625</td>\n",
       "      <td>18.6</td>\n",
       "      <td>82</td>\n",
       "      <td>1</td>\n",
       "    </tr>\n",
       "    <tr>\n",
       "      <th>397</th>\n",
       "      <td>31.0</td>\n",
       "      <td>4</td>\n",
       "      <td>119.0</td>\n",
       "      <td>82.0</td>\n",
       "      <td>2720</td>\n",
       "      <td>19.4</td>\n",
       "      <td>82</td>\n",
       "      <td>1</td>\n",
       "    </tr>\n",
       "  </tbody>\n",
       "</table>\n",
       "<p>392 rows × 8 columns</p>\n",
       "</div>"
      ],
      "text/plain": [
       "      mpg  cyl   disp     hp    wt   acc  yr  origin\n",
       "0    18.0    8  307.0  130.0  3504  12.0  70       1\n",
       "1    15.0    8  350.0  165.0  3693  11.5  70       1\n",
       "2    18.0    8  318.0  150.0  3436  11.0  70       1\n",
       "3    16.0    8  304.0  150.0  3433  12.0  70       1\n",
       "4    17.0    8  302.0  140.0  3449  10.5  70       1\n",
       "..    ...  ...    ...    ...   ...   ...  ..     ...\n",
       "393  27.0    4  140.0   86.0  2790  15.6  82       1\n",
       "394  44.0    4   97.0   52.0  2130  21.9  82       2\n",
       "395  32.0    4  135.0   84.0  2295  11.6  82       1\n",
       "396  28.0    4  120.0   79.0  2625  18.6  82       1\n",
       "397  31.0    4  119.0   82.0  2720  19.4  82       1\n",
       "\n",
       "[392 rows x 8 columns]"
      ]
     },
     "execution_count": 28,
     "metadata": {},
     "output_type": "execute_result"
    }
   ],
   "source": [
    "X = df.drop('car_name',axis = 1)\n",
    "X"
   ]
  },
  {
   "cell_type": "markdown",
   "id": "a3ba762b-abb9-4964-a0a1-e2376cce2e58",
   "metadata": {},
   "source": [
    "### **Observation:**\n",
    "- `car_name` has too many unique values and doesn't contribute to prediction — will be dropped."
   ]
  },
  {
   "cell_type": "markdown",
   "id": "42ef33ec-920f-42bc-bcaa-72db1f4a7cec",
   "metadata": {},
   "source": [
    "# **Defining Features (X) and Target Variable (y)**"
   ]
  },
  {
   "cell_type": "code",
   "execution_count": 29,
   "id": "5a2a9c0c-ce45-424d-b14a-f946372de2ac",
   "metadata": {},
   "outputs": [],
   "source": [
    "X = X.drop(['mpg'],axis = 1)"
   ]
  },
  {
   "cell_type": "code",
   "execution_count": 30,
   "id": "0e424969-446b-4d41-b4d2-568d59a75984",
   "metadata": {},
   "outputs": [
    {
     "data": {
      "text/html": [
       "<div>\n",
       "<style scoped>\n",
       "    .dataframe tbody tr th:only-of-type {\n",
       "        vertical-align: middle;\n",
       "    }\n",
       "\n",
       "    .dataframe tbody tr th {\n",
       "        vertical-align: top;\n",
       "    }\n",
       "\n",
       "    .dataframe thead th {\n",
       "        text-align: right;\n",
       "    }\n",
       "</style>\n",
       "<table border=\"1\" class=\"dataframe\">\n",
       "  <thead>\n",
       "    <tr style=\"text-align: right;\">\n",
       "      <th></th>\n",
       "      <th>cyl</th>\n",
       "      <th>disp</th>\n",
       "      <th>hp</th>\n",
       "      <th>wt</th>\n",
       "      <th>acc</th>\n",
       "      <th>yr</th>\n",
       "      <th>origin</th>\n",
       "    </tr>\n",
       "  </thead>\n",
       "  <tbody>\n",
       "    <tr>\n",
       "      <th>0</th>\n",
       "      <td>8</td>\n",
       "      <td>307.0</td>\n",
       "      <td>130.0</td>\n",
       "      <td>3504</td>\n",
       "      <td>12.0</td>\n",
       "      <td>70</td>\n",
       "      <td>1</td>\n",
       "    </tr>\n",
       "    <tr>\n",
       "      <th>1</th>\n",
       "      <td>8</td>\n",
       "      <td>350.0</td>\n",
       "      <td>165.0</td>\n",
       "      <td>3693</td>\n",
       "      <td>11.5</td>\n",
       "      <td>70</td>\n",
       "      <td>1</td>\n",
       "    </tr>\n",
       "    <tr>\n",
       "      <th>2</th>\n",
       "      <td>8</td>\n",
       "      <td>318.0</td>\n",
       "      <td>150.0</td>\n",
       "      <td>3436</td>\n",
       "      <td>11.0</td>\n",
       "      <td>70</td>\n",
       "      <td>1</td>\n",
       "    </tr>\n",
       "  </tbody>\n",
       "</table>\n",
       "</div>"
      ],
      "text/plain": [
       "   cyl   disp     hp    wt   acc  yr  origin\n",
       "0    8  307.0  130.0  3504  12.0  70       1\n",
       "1    8  350.0  165.0  3693  11.5  70       1\n",
       "2    8  318.0  150.0  3436  11.0  70       1"
      ]
     },
     "execution_count": 30,
     "metadata": {},
     "output_type": "execute_result"
    }
   ],
   "source": [
    "X.head(3)"
   ]
  },
  {
   "cell_type": "code",
   "execution_count": 31,
   "id": "edfa3b0f-0356-475e-b5e3-1e14ed52d70e",
   "metadata": {},
   "outputs": [],
   "source": [
    "y =df.mpg"
   ]
  },
  {
   "cell_type": "code",
   "execution_count": 32,
   "id": "1b09d824-7913-473f-b081-6773120ef18f",
   "metadata": {},
   "outputs": [
    {
     "data": {
      "text/plain": [
       "0    18.0\n",
       "1    15.0\n",
       "2    18.0\n",
       "Name: mpg, dtype: float64"
      ]
     },
     "execution_count": 32,
     "metadata": {},
     "output_type": "execute_result"
    }
   ],
   "source": [
    "y.head(3)"
   ]
  },
  {
   "cell_type": "markdown",
   "id": "00a30ba6-dae4-45c9-8735-28807983065d",
   "metadata": {},
   "source": [
    "# **Encoding**"
   ]
  },
  {
   "cell_type": "markdown",
   "id": "40456dda-bbfc-423c-8262-ef7a914dab25",
   "metadata": {},
   "source": [
    "- We will skip encoding because there are no categorical columns here"
   ]
  },
  {
   "cell_type": "markdown",
   "id": "e6ecae50-f367-43be-89a8-142ec6a148b9",
   "metadata": {},
   "source": [
    "# **Train Test Split**"
   ]
  },
  {
   "cell_type": "code",
   "execution_count": 33,
   "id": "ad8594ef-0dee-4e34-84a3-0d4ee88515fc",
   "metadata": {},
   "outputs": [],
   "source": [
    "Xtrain,Xtest,ytrain,ytest = train_test_split(X,y,test_size =0.2, random_state = 5 )"
   ]
  },
  {
   "cell_type": "markdown",
   "id": "20575643-30a8-4cb0-9d10-736ad21d82ed",
   "metadata": {},
   "source": [
    "# **Checking Shape of the split data**"
   ]
  },
  {
   "cell_type": "code",
   "execution_count": 34,
   "id": "7b85738f-1cb9-46a4-85fb-a3d8fc2775aa",
   "metadata": {},
   "outputs": [
    {
     "data": {
      "text/plain": [
       "(313, 7)"
      ]
     },
     "execution_count": 34,
     "metadata": {},
     "output_type": "execute_result"
    }
   ],
   "source": [
    "Xtrain.shape"
   ]
  },
  {
   "cell_type": "code",
   "execution_count": 35,
   "id": "cfe99c9b-99b4-4e4e-9350-92b6e640d0d3",
   "metadata": {},
   "outputs": [
    {
     "data": {
      "text/plain": [
       "(79, 7)"
      ]
     },
     "execution_count": 35,
     "metadata": {},
     "output_type": "execute_result"
    }
   ],
   "source": [
    "Xtest.shape"
   ]
  },
  {
   "cell_type": "code",
   "execution_count": 36,
   "id": "db2f0430-c4a1-4e36-b68f-34fb4827b23e",
   "metadata": {},
   "outputs": [
    {
     "data": {
      "text/plain": [
       "(313,)"
      ]
     },
     "execution_count": 36,
     "metadata": {},
     "output_type": "execute_result"
    }
   ],
   "source": [
    "ytrain.shape"
   ]
  },
  {
   "cell_type": "code",
   "execution_count": 37,
   "id": "77120037-06b0-47d4-bfd6-d6938716dd40",
   "metadata": {},
   "outputs": [
    {
     "data": {
      "text/plain": [
       "(79,)"
      ]
     },
     "execution_count": 37,
     "metadata": {},
     "output_type": "execute_result"
    }
   ],
   "source": [
    "ytest.shape"
   ]
  },
  {
   "cell_type": "markdown",
   "id": "81d6446f-1e66-411c-a00d-126d501e2f8c",
   "metadata": {},
   "source": [
    "# **Scaling**"
   ]
  },
  {
   "cell_type": "code",
   "execution_count": 38,
   "id": "1ebd8501-10d2-42d5-9e75-798a8a3c4793",
   "metadata": {},
   "outputs": [],
   "source": [
    "num_col = ['cyl', 'disp', 'hp', 'wt', 'acc', 'yr']"
   ]
  },
  {
   "cell_type": "code",
   "execution_count": 39,
   "id": "1f20294c-80f8-4498-a476-f5594c8a9bc7",
   "metadata": {},
   "outputs": [],
   "source": [
    "scaler = StandardScaler()"
   ]
  },
  {
   "cell_type": "code",
   "execution_count": 40,
   "id": "12ff4e44-4674-409b-ad12-ecd29e3eea3d",
   "metadata": {},
   "outputs": [],
   "source": [
    "Xtrain[num_col] = scaler.fit_transform(Xtrain[num_col])\n",
    "Xtest[num_col] = scaler.transform(Xtest[num_col])"
   ]
  },
  {
   "cell_type": "markdown",
   "id": "094ea980-0335-4da5-8eac-41ef6234ec36",
   "metadata": {},
   "source": [
    "# **Feature Selection**"
   ]
  },
  {
   "cell_type": "markdown",
   "id": "e4c2918a-c9be-43d8-8ef3-7c2092070dbf",
   "metadata": {},
   "source": [
    "### **Select K- Best**"
   ]
  },
  {
   "cell_type": "code",
   "execution_count": 41,
   "id": "20393ba9-ae74-4664-8795-3036e54455dd",
   "metadata": {},
   "outputs": [],
   "source": [
    "skb = SelectKBest(score_func = f_regression, k = 'all')"
   ]
  },
  {
   "cell_type": "code",
   "execution_count": 42,
   "id": "4607c76d-2c46-4a99-9851-a10a2493e976",
   "metadata": {},
   "outputs": [
    {
     "data": {
      "text/html": [
       "<style>#sk-container-id-1 {\n",
       "  /* Definition of color scheme common for light and dark mode */\n",
       "  --sklearn-color-text: black;\n",
       "  --sklearn-color-line: gray;\n",
       "  /* Definition of color scheme for unfitted estimators */\n",
       "  --sklearn-color-unfitted-level-0: #fff5e6;\n",
       "  --sklearn-color-unfitted-level-1: #f6e4d2;\n",
       "  --sklearn-color-unfitted-level-2: #ffe0b3;\n",
       "  --sklearn-color-unfitted-level-3: chocolate;\n",
       "  /* Definition of color scheme for fitted estimators */\n",
       "  --sklearn-color-fitted-level-0: #f0f8ff;\n",
       "  --sklearn-color-fitted-level-1: #d4ebff;\n",
       "  --sklearn-color-fitted-level-2: #b3dbfd;\n",
       "  --sklearn-color-fitted-level-3: cornflowerblue;\n",
       "\n",
       "  /* Specific color for light theme */\n",
       "  --sklearn-color-text-on-default-background: var(--sg-text-color, var(--theme-code-foreground, var(--jp-content-font-color1, black)));\n",
       "  --sklearn-color-background: var(--sg-background-color, var(--theme-background, var(--jp-layout-color0, white)));\n",
       "  --sklearn-color-border-box: var(--sg-text-color, var(--theme-code-foreground, var(--jp-content-font-color1, black)));\n",
       "  --sklearn-color-icon: #696969;\n",
       "\n",
       "  @media (prefers-color-scheme: dark) {\n",
       "    /* Redefinition of color scheme for dark theme */\n",
       "    --sklearn-color-text-on-default-background: var(--sg-text-color, var(--theme-code-foreground, var(--jp-content-font-color1, white)));\n",
       "    --sklearn-color-background: var(--sg-background-color, var(--theme-background, var(--jp-layout-color0, #111)));\n",
       "    --sklearn-color-border-box: var(--sg-text-color, var(--theme-code-foreground, var(--jp-content-font-color1, white)));\n",
       "    --sklearn-color-icon: #878787;\n",
       "  }\n",
       "}\n",
       "\n",
       "#sk-container-id-1 {\n",
       "  color: var(--sklearn-color-text);\n",
       "}\n",
       "\n",
       "#sk-container-id-1 pre {\n",
       "  padding: 0;\n",
       "}\n",
       "\n",
       "#sk-container-id-1 input.sk-hidden--visually {\n",
       "  border: 0;\n",
       "  clip: rect(1px 1px 1px 1px);\n",
       "  clip: rect(1px, 1px, 1px, 1px);\n",
       "  height: 1px;\n",
       "  margin: -1px;\n",
       "  overflow: hidden;\n",
       "  padding: 0;\n",
       "  position: absolute;\n",
       "  width: 1px;\n",
       "}\n",
       "\n",
       "#sk-container-id-1 div.sk-dashed-wrapped {\n",
       "  border: 1px dashed var(--sklearn-color-line);\n",
       "  margin: 0 0.4em 0.5em 0.4em;\n",
       "  box-sizing: border-box;\n",
       "  padding-bottom: 0.4em;\n",
       "  background-color: var(--sklearn-color-background);\n",
       "}\n",
       "\n",
       "#sk-container-id-1 div.sk-container {\n",
       "  /* jupyter's `normalize.less` sets `[hidden] { display: none; }`\n",
       "     but bootstrap.min.css set `[hidden] { display: none !important; }`\n",
       "     so we also need the `!important` here to be able to override the\n",
       "     default hidden behavior on the sphinx rendered scikit-learn.org.\n",
       "     See: https://github.com/scikit-learn/scikit-learn/issues/21755 */\n",
       "  display: inline-block !important;\n",
       "  position: relative;\n",
       "}\n",
       "\n",
       "#sk-container-id-1 div.sk-text-repr-fallback {\n",
       "  display: none;\n",
       "}\n",
       "\n",
       "div.sk-parallel-item,\n",
       "div.sk-serial,\n",
       "div.sk-item {\n",
       "  /* draw centered vertical line to link estimators */\n",
       "  background-image: linear-gradient(var(--sklearn-color-text-on-default-background), var(--sklearn-color-text-on-default-background));\n",
       "  background-size: 2px 100%;\n",
       "  background-repeat: no-repeat;\n",
       "  background-position: center center;\n",
       "}\n",
       "\n",
       "/* Parallel-specific style estimator block */\n",
       "\n",
       "#sk-container-id-1 div.sk-parallel-item::after {\n",
       "  content: \"\";\n",
       "  width: 100%;\n",
       "  border-bottom: 2px solid var(--sklearn-color-text-on-default-background);\n",
       "  flex-grow: 1;\n",
       "}\n",
       "\n",
       "#sk-container-id-1 div.sk-parallel {\n",
       "  display: flex;\n",
       "  align-items: stretch;\n",
       "  justify-content: center;\n",
       "  background-color: var(--sklearn-color-background);\n",
       "  position: relative;\n",
       "}\n",
       "\n",
       "#sk-container-id-1 div.sk-parallel-item {\n",
       "  display: flex;\n",
       "  flex-direction: column;\n",
       "}\n",
       "\n",
       "#sk-container-id-1 div.sk-parallel-item:first-child::after {\n",
       "  align-self: flex-end;\n",
       "  width: 50%;\n",
       "}\n",
       "\n",
       "#sk-container-id-1 div.sk-parallel-item:last-child::after {\n",
       "  align-self: flex-start;\n",
       "  width: 50%;\n",
       "}\n",
       "\n",
       "#sk-container-id-1 div.sk-parallel-item:only-child::after {\n",
       "  width: 0;\n",
       "}\n",
       "\n",
       "/* Serial-specific style estimator block */\n",
       "\n",
       "#sk-container-id-1 div.sk-serial {\n",
       "  display: flex;\n",
       "  flex-direction: column;\n",
       "  align-items: center;\n",
       "  background-color: var(--sklearn-color-background);\n",
       "  padding-right: 1em;\n",
       "  padding-left: 1em;\n",
       "}\n",
       "\n",
       "\n",
       "/* Toggleable style: style used for estimator/Pipeline/ColumnTransformer box that is\n",
       "clickable and can be expanded/collapsed.\n",
       "- Pipeline and ColumnTransformer use this feature and define the default style\n",
       "- Estimators will overwrite some part of the style using the `sk-estimator` class\n",
       "*/\n",
       "\n",
       "/* Pipeline and ColumnTransformer style (default) */\n",
       "\n",
       "#sk-container-id-1 div.sk-toggleable {\n",
       "  /* Default theme specific background. It is overwritten whether we have a\n",
       "  specific estimator or a Pipeline/ColumnTransformer */\n",
       "  background-color: var(--sklearn-color-background);\n",
       "}\n",
       "\n",
       "/* Toggleable label */\n",
       "#sk-container-id-1 label.sk-toggleable__label {\n",
       "  cursor: pointer;\n",
       "  display: block;\n",
       "  width: 100%;\n",
       "  margin-bottom: 0;\n",
       "  padding: 0.5em;\n",
       "  box-sizing: border-box;\n",
       "  text-align: center;\n",
       "}\n",
       "\n",
       "#sk-container-id-1 label.sk-toggleable__label-arrow:before {\n",
       "  /* Arrow on the left of the label */\n",
       "  content: \"▸\";\n",
       "  float: left;\n",
       "  margin-right: 0.25em;\n",
       "  color: var(--sklearn-color-icon);\n",
       "}\n",
       "\n",
       "#sk-container-id-1 label.sk-toggleable__label-arrow:hover:before {\n",
       "  color: var(--sklearn-color-text);\n",
       "}\n",
       "\n",
       "/* Toggleable content - dropdown */\n",
       "\n",
       "#sk-container-id-1 div.sk-toggleable__content {\n",
       "  max-height: 0;\n",
       "  max-width: 0;\n",
       "  overflow: hidden;\n",
       "  text-align: left;\n",
       "  /* unfitted */\n",
       "  background-color: var(--sklearn-color-unfitted-level-0);\n",
       "}\n",
       "\n",
       "#sk-container-id-1 div.sk-toggleable__content.fitted {\n",
       "  /* fitted */\n",
       "  background-color: var(--sklearn-color-fitted-level-0);\n",
       "}\n",
       "\n",
       "#sk-container-id-1 div.sk-toggleable__content pre {\n",
       "  margin: 0.2em;\n",
       "  border-radius: 0.25em;\n",
       "  color: var(--sklearn-color-text);\n",
       "  /* unfitted */\n",
       "  background-color: var(--sklearn-color-unfitted-level-0);\n",
       "}\n",
       "\n",
       "#sk-container-id-1 div.sk-toggleable__content.fitted pre {\n",
       "  /* unfitted */\n",
       "  background-color: var(--sklearn-color-fitted-level-0);\n",
       "}\n",
       "\n",
       "#sk-container-id-1 input.sk-toggleable__control:checked~div.sk-toggleable__content {\n",
       "  /* Expand drop-down */\n",
       "  max-height: 200px;\n",
       "  max-width: 100%;\n",
       "  overflow: auto;\n",
       "}\n",
       "\n",
       "#sk-container-id-1 input.sk-toggleable__control:checked~label.sk-toggleable__label-arrow:before {\n",
       "  content: \"▾\";\n",
       "}\n",
       "\n",
       "/* Pipeline/ColumnTransformer-specific style */\n",
       "\n",
       "#sk-container-id-1 div.sk-label input.sk-toggleable__control:checked~label.sk-toggleable__label {\n",
       "  color: var(--sklearn-color-text);\n",
       "  background-color: var(--sklearn-color-unfitted-level-2);\n",
       "}\n",
       "\n",
       "#sk-container-id-1 div.sk-label.fitted input.sk-toggleable__control:checked~label.sk-toggleable__label {\n",
       "  background-color: var(--sklearn-color-fitted-level-2);\n",
       "}\n",
       "\n",
       "/* Estimator-specific style */\n",
       "\n",
       "/* Colorize estimator box */\n",
       "#sk-container-id-1 div.sk-estimator input.sk-toggleable__control:checked~label.sk-toggleable__label {\n",
       "  /* unfitted */\n",
       "  background-color: var(--sklearn-color-unfitted-level-2);\n",
       "}\n",
       "\n",
       "#sk-container-id-1 div.sk-estimator.fitted input.sk-toggleable__control:checked~label.sk-toggleable__label {\n",
       "  /* fitted */\n",
       "  background-color: var(--sklearn-color-fitted-level-2);\n",
       "}\n",
       "\n",
       "#sk-container-id-1 div.sk-label label.sk-toggleable__label,\n",
       "#sk-container-id-1 div.sk-label label {\n",
       "  /* The background is the default theme color */\n",
       "  color: var(--sklearn-color-text-on-default-background);\n",
       "}\n",
       "\n",
       "/* On hover, darken the color of the background */\n",
       "#sk-container-id-1 div.sk-label:hover label.sk-toggleable__label {\n",
       "  color: var(--sklearn-color-text);\n",
       "  background-color: var(--sklearn-color-unfitted-level-2);\n",
       "}\n",
       "\n",
       "/* Label box, darken color on hover, fitted */\n",
       "#sk-container-id-1 div.sk-label.fitted:hover label.sk-toggleable__label.fitted {\n",
       "  color: var(--sklearn-color-text);\n",
       "  background-color: var(--sklearn-color-fitted-level-2);\n",
       "}\n",
       "\n",
       "/* Estimator label */\n",
       "\n",
       "#sk-container-id-1 div.sk-label label {\n",
       "  font-family: monospace;\n",
       "  font-weight: bold;\n",
       "  display: inline-block;\n",
       "  line-height: 1.2em;\n",
       "}\n",
       "\n",
       "#sk-container-id-1 div.sk-label-container {\n",
       "  text-align: center;\n",
       "}\n",
       "\n",
       "/* Estimator-specific */\n",
       "#sk-container-id-1 div.sk-estimator {\n",
       "  font-family: monospace;\n",
       "  border: 1px dotted var(--sklearn-color-border-box);\n",
       "  border-radius: 0.25em;\n",
       "  box-sizing: border-box;\n",
       "  margin-bottom: 0.5em;\n",
       "  /* unfitted */\n",
       "  background-color: var(--sklearn-color-unfitted-level-0);\n",
       "}\n",
       "\n",
       "#sk-container-id-1 div.sk-estimator.fitted {\n",
       "  /* fitted */\n",
       "  background-color: var(--sklearn-color-fitted-level-0);\n",
       "}\n",
       "\n",
       "/* on hover */\n",
       "#sk-container-id-1 div.sk-estimator:hover {\n",
       "  /* unfitted */\n",
       "  background-color: var(--sklearn-color-unfitted-level-2);\n",
       "}\n",
       "\n",
       "#sk-container-id-1 div.sk-estimator.fitted:hover {\n",
       "  /* fitted */\n",
       "  background-color: var(--sklearn-color-fitted-level-2);\n",
       "}\n",
       "\n",
       "/* Specification for estimator info (e.g. \"i\" and \"?\") */\n",
       "\n",
       "/* Common style for \"i\" and \"?\" */\n",
       "\n",
       ".sk-estimator-doc-link,\n",
       "a:link.sk-estimator-doc-link,\n",
       "a:visited.sk-estimator-doc-link {\n",
       "  float: right;\n",
       "  font-size: smaller;\n",
       "  line-height: 1em;\n",
       "  font-family: monospace;\n",
       "  background-color: var(--sklearn-color-background);\n",
       "  border-radius: 1em;\n",
       "  height: 1em;\n",
       "  width: 1em;\n",
       "  text-decoration: none !important;\n",
       "  margin-left: 1ex;\n",
       "  /* unfitted */\n",
       "  border: var(--sklearn-color-unfitted-level-1) 1pt solid;\n",
       "  color: var(--sklearn-color-unfitted-level-1);\n",
       "}\n",
       "\n",
       ".sk-estimator-doc-link.fitted,\n",
       "a:link.sk-estimator-doc-link.fitted,\n",
       "a:visited.sk-estimator-doc-link.fitted {\n",
       "  /* fitted */\n",
       "  border: var(--sklearn-color-fitted-level-1) 1pt solid;\n",
       "  color: var(--sklearn-color-fitted-level-1);\n",
       "}\n",
       "\n",
       "/* On hover */\n",
       "div.sk-estimator:hover .sk-estimator-doc-link:hover,\n",
       ".sk-estimator-doc-link:hover,\n",
       "div.sk-label-container:hover .sk-estimator-doc-link:hover,\n",
       ".sk-estimator-doc-link:hover {\n",
       "  /* unfitted */\n",
       "  background-color: var(--sklearn-color-unfitted-level-3);\n",
       "  color: var(--sklearn-color-background);\n",
       "  text-decoration: none;\n",
       "}\n",
       "\n",
       "div.sk-estimator.fitted:hover .sk-estimator-doc-link.fitted:hover,\n",
       ".sk-estimator-doc-link.fitted:hover,\n",
       "div.sk-label-container:hover .sk-estimator-doc-link.fitted:hover,\n",
       ".sk-estimator-doc-link.fitted:hover {\n",
       "  /* fitted */\n",
       "  background-color: var(--sklearn-color-fitted-level-3);\n",
       "  color: var(--sklearn-color-background);\n",
       "  text-decoration: none;\n",
       "}\n",
       "\n",
       "/* Span, style for the box shown on hovering the info icon */\n",
       ".sk-estimator-doc-link span {\n",
       "  display: none;\n",
       "  z-index: 9999;\n",
       "  position: relative;\n",
       "  font-weight: normal;\n",
       "  right: .2ex;\n",
       "  padding: .5ex;\n",
       "  margin: .5ex;\n",
       "  width: min-content;\n",
       "  min-width: 20ex;\n",
       "  max-width: 50ex;\n",
       "  color: var(--sklearn-color-text);\n",
       "  box-shadow: 2pt 2pt 4pt #999;\n",
       "  /* unfitted */\n",
       "  background: var(--sklearn-color-unfitted-level-0);\n",
       "  border: .5pt solid var(--sklearn-color-unfitted-level-3);\n",
       "}\n",
       "\n",
       ".sk-estimator-doc-link.fitted span {\n",
       "  /* fitted */\n",
       "  background: var(--sklearn-color-fitted-level-0);\n",
       "  border: var(--sklearn-color-fitted-level-3);\n",
       "}\n",
       "\n",
       ".sk-estimator-doc-link:hover span {\n",
       "  display: block;\n",
       "}\n",
       "\n",
       "/* \"?\"-specific style due to the `<a>` HTML tag */\n",
       "\n",
       "#sk-container-id-1 a.estimator_doc_link {\n",
       "  float: right;\n",
       "  font-size: 1rem;\n",
       "  line-height: 1em;\n",
       "  font-family: monospace;\n",
       "  background-color: var(--sklearn-color-background);\n",
       "  border-radius: 1rem;\n",
       "  height: 1rem;\n",
       "  width: 1rem;\n",
       "  text-decoration: none;\n",
       "  /* unfitted */\n",
       "  color: var(--sklearn-color-unfitted-level-1);\n",
       "  border: var(--sklearn-color-unfitted-level-1) 1pt solid;\n",
       "}\n",
       "\n",
       "#sk-container-id-1 a.estimator_doc_link.fitted {\n",
       "  /* fitted */\n",
       "  border: var(--sklearn-color-fitted-level-1) 1pt solid;\n",
       "  color: var(--sklearn-color-fitted-level-1);\n",
       "}\n",
       "\n",
       "/* On hover */\n",
       "#sk-container-id-1 a.estimator_doc_link:hover {\n",
       "  /* unfitted */\n",
       "  background-color: var(--sklearn-color-unfitted-level-3);\n",
       "  color: var(--sklearn-color-background);\n",
       "  text-decoration: none;\n",
       "}\n",
       "\n",
       "#sk-container-id-1 a.estimator_doc_link.fitted:hover {\n",
       "  /* fitted */\n",
       "  background-color: var(--sklearn-color-fitted-level-3);\n",
       "}\n",
       "</style><div id=\"sk-container-id-1\" class=\"sk-top-container\"><div class=\"sk-text-repr-fallback\"><pre>SelectKBest(k=&#x27;all&#x27;, score_func=&lt;function f_regression at 0x00000248951AA7A0&gt;)</pre><b>In a Jupyter environment, please rerun this cell to show the HTML representation or trust the notebook. <br />On GitHub, the HTML representation is unable to render, please try loading this page with nbviewer.org.</b></div><div class=\"sk-container\" hidden><div class=\"sk-item\"><div class=\"sk-estimator fitted sk-toggleable\"><input class=\"sk-toggleable__control sk-hidden--visually\" id=\"sk-estimator-id-1\" type=\"checkbox\" checked><label for=\"sk-estimator-id-1\" class=\"sk-toggleable__label fitted sk-toggleable__label-arrow fitted\">&nbsp;&nbsp;SelectKBest<a class=\"sk-estimator-doc-link fitted\" rel=\"noreferrer\" target=\"_blank\" href=\"https://scikit-learn.org/1.5/modules/generated/sklearn.feature_selection.SelectKBest.html\">?<span>Documentation for SelectKBest</span></a><span class=\"sk-estimator-doc-link fitted\">i<span>Fitted</span></span></label><div class=\"sk-toggleable__content fitted\"><pre>SelectKBest(k=&#x27;all&#x27;, score_func=&lt;function f_regression at 0x00000248951AA7A0&gt;)</pre></div> </div></div></div></div>"
      ],
      "text/plain": [
       "SelectKBest(k='all', score_func=<function f_regression at 0x00000248951AA7A0>)"
      ]
     },
     "execution_count": 42,
     "metadata": {},
     "output_type": "execute_result"
    }
   ],
   "source": [
    "skb.fit(Xtrain,ytrain)"
   ]
  },
  {
   "cell_type": "code",
   "execution_count": 43,
   "id": "8646c484-be6b-4935-a7f8-eb0ba0e180ea",
   "metadata": {},
   "outputs": [],
   "source": [
    "feature_scores=pd.DataFrame(data={'Feature':Xtrain.columns,'Score':skb.scores_})"
   ]
  },
  {
   "cell_type": "code",
   "execution_count": 44,
   "id": "db3dde82-321e-4e32-bbf8-b3c33946438e",
   "metadata": {},
   "outputs": [
    {
     "data": {
      "text/html": [
       "<div>\n",
       "<style scoped>\n",
       "    .dataframe tbody tr th:only-of-type {\n",
       "        vertical-align: middle;\n",
       "    }\n",
       "\n",
       "    .dataframe tbody tr th {\n",
       "        vertical-align: top;\n",
       "    }\n",
       "\n",
       "    .dataframe thead th {\n",
       "        text-align: right;\n",
       "    }\n",
       "</style>\n",
       "<table border=\"1\" class=\"dataframe\">\n",
       "  <thead>\n",
       "    <tr style=\"text-align: right;\">\n",
       "      <th></th>\n",
       "      <th>Feature</th>\n",
       "      <th>Score</th>\n",
       "    </tr>\n",
       "  </thead>\n",
       "  <tbody>\n",
       "    <tr>\n",
       "      <th>0</th>\n",
       "      <td>cyl</td>\n",
       "      <td>490.187668</td>\n",
       "    </tr>\n",
       "    <tr>\n",
       "      <th>1</th>\n",
       "      <td>disp</td>\n",
       "      <td>562.472684</td>\n",
       "    </tr>\n",
       "    <tr>\n",
       "      <th>2</th>\n",
       "      <td>hp</td>\n",
       "      <td>499.870788</td>\n",
       "    </tr>\n",
       "    <tr>\n",
       "      <th>3</th>\n",
       "      <td>wt</td>\n",
       "      <td>729.589493</td>\n",
       "    </tr>\n",
       "    <tr>\n",
       "      <th>4</th>\n",
       "      <td>acc</td>\n",
       "      <td>63.675923</td>\n",
       "    </tr>\n",
       "    <tr>\n",
       "      <th>5</th>\n",
       "      <td>yr</td>\n",
       "      <td>166.893060</td>\n",
       "    </tr>\n",
       "    <tr>\n",
       "      <th>6</th>\n",
       "      <td>origin</td>\n",
       "      <td>161.814648</td>\n",
       "    </tr>\n",
       "  </tbody>\n",
       "</table>\n",
       "</div>"
      ],
      "text/plain": [
       "  Feature       Score\n",
       "0     cyl  490.187668\n",
       "1    disp  562.472684\n",
       "2      hp  499.870788\n",
       "3      wt  729.589493\n",
       "4     acc   63.675923\n",
       "5      yr  166.893060\n",
       "6  origin  161.814648"
      ]
     },
     "execution_count": 44,
     "metadata": {},
     "output_type": "execute_result"
    }
   ],
   "source": [
    "feature_scores"
   ]
  },
  {
   "cell_type": "code",
   "execution_count": 45,
   "id": "fef8bd30-a3d9-4106-af3b-0de269b4a3a5",
   "metadata": {},
   "outputs": [],
   "source": [
    "feature_scores = feature_scores.sort_values(by = 'Score',ascending = False).reset_index()"
   ]
  },
  {
   "cell_type": "code",
   "execution_count": 46,
   "id": "39ad5fd8-0aa0-4445-b8f8-6b4019bb7e1d",
   "metadata": {},
   "outputs": [],
   "source": [
    "feature_scores.drop('index',axis = 1, inplace = True)"
   ]
  },
  {
   "cell_type": "code",
   "execution_count": 47,
   "id": "fcca2d3c-f6c2-460b-9ad6-bc10a3aff839",
   "metadata": {},
   "outputs": [
    {
     "data": {
      "text/html": [
       "<div>\n",
       "<style scoped>\n",
       "    .dataframe tbody tr th:only-of-type {\n",
       "        vertical-align: middle;\n",
       "    }\n",
       "\n",
       "    .dataframe tbody tr th {\n",
       "        vertical-align: top;\n",
       "    }\n",
       "\n",
       "    .dataframe thead th {\n",
       "        text-align: right;\n",
       "    }\n",
       "</style>\n",
       "<table border=\"1\" class=\"dataframe\">\n",
       "  <thead>\n",
       "    <tr style=\"text-align: right;\">\n",
       "      <th></th>\n",
       "      <th>Feature</th>\n",
       "      <th>Score</th>\n",
       "    </tr>\n",
       "  </thead>\n",
       "  <tbody>\n",
       "    <tr>\n",
       "      <th>0</th>\n",
       "      <td>wt</td>\n",
       "      <td>729.589493</td>\n",
       "    </tr>\n",
       "    <tr>\n",
       "      <th>1</th>\n",
       "      <td>disp</td>\n",
       "      <td>562.472684</td>\n",
       "    </tr>\n",
       "    <tr>\n",
       "      <th>2</th>\n",
       "      <td>hp</td>\n",
       "      <td>499.870788</td>\n",
       "    </tr>\n",
       "    <tr>\n",
       "      <th>3</th>\n",
       "      <td>cyl</td>\n",
       "      <td>490.187668</td>\n",
       "    </tr>\n",
       "    <tr>\n",
       "      <th>4</th>\n",
       "      <td>yr</td>\n",
       "      <td>166.893060</td>\n",
       "    </tr>\n",
       "    <tr>\n",
       "      <th>5</th>\n",
       "      <td>origin</td>\n",
       "      <td>161.814648</td>\n",
       "    </tr>\n",
       "    <tr>\n",
       "      <th>6</th>\n",
       "      <td>acc</td>\n",
       "      <td>63.675923</td>\n",
       "    </tr>\n",
       "  </tbody>\n",
       "</table>\n",
       "</div>"
      ],
      "text/plain": [
       "  Feature       Score\n",
       "0      wt  729.589493\n",
       "1    disp  562.472684\n",
       "2      hp  499.870788\n",
       "3     cyl  490.187668\n",
       "4      yr  166.893060\n",
       "5  origin  161.814648\n",
       "6     acc   63.675923"
      ]
     },
     "execution_count": 47,
     "metadata": {},
     "output_type": "execute_result"
    }
   ],
   "source": [
    "feature_scores"
   ]
  },
  {
   "cell_type": "markdown",
   "id": "f22de8c3-a479-47cd-b921-766035ef4352",
   "metadata": {},
   "source": [
    "# **RFE**"
   ]
  },
  {
   "cell_type": "code",
   "execution_count": 48,
   "id": "8eb9bbb6-7b17-4fc1-92f7-778db72a1429",
   "metadata": {},
   "outputs": [],
   "source": [
    "from sklearn.feature_selection import RFE"
   ]
  },
  {
   "cell_type": "code",
   "execution_count": 49,
   "id": "79582a7a-f51b-4652-94e7-a665962f5e27",
   "metadata": {},
   "outputs": [],
   "source": [
    "LR  = LinearRegression()"
   ]
  },
  {
   "cell_type": "code",
   "execution_count": 50,
   "id": "979a75dd-a33c-4793-9148-ff488ac0c808",
   "metadata": {},
   "outputs": [],
   "source": [
    "rfe = RFE(estimator=LR, n_features_to_select=5)"
   ]
  },
  {
   "cell_type": "code",
   "execution_count": 51,
   "id": "5230fae0-ce42-4e99-a474-30108254edaa",
   "metadata": {},
   "outputs": [
    {
     "data": {
      "text/html": [
       "<style>#sk-container-id-2 {\n",
       "  /* Definition of color scheme common for light and dark mode */\n",
       "  --sklearn-color-text: black;\n",
       "  --sklearn-color-line: gray;\n",
       "  /* Definition of color scheme for unfitted estimators */\n",
       "  --sklearn-color-unfitted-level-0: #fff5e6;\n",
       "  --sklearn-color-unfitted-level-1: #f6e4d2;\n",
       "  --sklearn-color-unfitted-level-2: #ffe0b3;\n",
       "  --sklearn-color-unfitted-level-3: chocolate;\n",
       "  /* Definition of color scheme for fitted estimators */\n",
       "  --sklearn-color-fitted-level-0: #f0f8ff;\n",
       "  --sklearn-color-fitted-level-1: #d4ebff;\n",
       "  --sklearn-color-fitted-level-2: #b3dbfd;\n",
       "  --sklearn-color-fitted-level-3: cornflowerblue;\n",
       "\n",
       "  /* Specific color for light theme */\n",
       "  --sklearn-color-text-on-default-background: var(--sg-text-color, var(--theme-code-foreground, var(--jp-content-font-color1, black)));\n",
       "  --sklearn-color-background: var(--sg-background-color, var(--theme-background, var(--jp-layout-color0, white)));\n",
       "  --sklearn-color-border-box: var(--sg-text-color, var(--theme-code-foreground, var(--jp-content-font-color1, black)));\n",
       "  --sklearn-color-icon: #696969;\n",
       "\n",
       "  @media (prefers-color-scheme: dark) {\n",
       "    /* Redefinition of color scheme for dark theme */\n",
       "    --sklearn-color-text-on-default-background: var(--sg-text-color, var(--theme-code-foreground, var(--jp-content-font-color1, white)));\n",
       "    --sklearn-color-background: var(--sg-background-color, var(--theme-background, var(--jp-layout-color0, #111)));\n",
       "    --sklearn-color-border-box: var(--sg-text-color, var(--theme-code-foreground, var(--jp-content-font-color1, white)));\n",
       "    --sklearn-color-icon: #878787;\n",
       "  }\n",
       "}\n",
       "\n",
       "#sk-container-id-2 {\n",
       "  color: var(--sklearn-color-text);\n",
       "}\n",
       "\n",
       "#sk-container-id-2 pre {\n",
       "  padding: 0;\n",
       "}\n",
       "\n",
       "#sk-container-id-2 input.sk-hidden--visually {\n",
       "  border: 0;\n",
       "  clip: rect(1px 1px 1px 1px);\n",
       "  clip: rect(1px, 1px, 1px, 1px);\n",
       "  height: 1px;\n",
       "  margin: -1px;\n",
       "  overflow: hidden;\n",
       "  padding: 0;\n",
       "  position: absolute;\n",
       "  width: 1px;\n",
       "}\n",
       "\n",
       "#sk-container-id-2 div.sk-dashed-wrapped {\n",
       "  border: 1px dashed var(--sklearn-color-line);\n",
       "  margin: 0 0.4em 0.5em 0.4em;\n",
       "  box-sizing: border-box;\n",
       "  padding-bottom: 0.4em;\n",
       "  background-color: var(--sklearn-color-background);\n",
       "}\n",
       "\n",
       "#sk-container-id-2 div.sk-container {\n",
       "  /* jupyter's `normalize.less` sets `[hidden] { display: none; }`\n",
       "     but bootstrap.min.css set `[hidden] { display: none !important; }`\n",
       "     so we also need the `!important` here to be able to override the\n",
       "     default hidden behavior on the sphinx rendered scikit-learn.org.\n",
       "     See: https://github.com/scikit-learn/scikit-learn/issues/21755 */\n",
       "  display: inline-block !important;\n",
       "  position: relative;\n",
       "}\n",
       "\n",
       "#sk-container-id-2 div.sk-text-repr-fallback {\n",
       "  display: none;\n",
       "}\n",
       "\n",
       "div.sk-parallel-item,\n",
       "div.sk-serial,\n",
       "div.sk-item {\n",
       "  /* draw centered vertical line to link estimators */\n",
       "  background-image: linear-gradient(var(--sklearn-color-text-on-default-background), var(--sklearn-color-text-on-default-background));\n",
       "  background-size: 2px 100%;\n",
       "  background-repeat: no-repeat;\n",
       "  background-position: center center;\n",
       "}\n",
       "\n",
       "/* Parallel-specific style estimator block */\n",
       "\n",
       "#sk-container-id-2 div.sk-parallel-item::after {\n",
       "  content: \"\";\n",
       "  width: 100%;\n",
       "  border-bottom: 2px solid var(--sklearn-color-text-on-default-background);\n",
       "  flex-grow: 1;\n",
       "}\n",
       "\n",
       "#sk-container-id-2 div.sk-parallel {\n",
       "  display: flex;\n",
       "  align-items: stretch;\n",
       "  justify-content: center;\n",
       "  background-color: var(--sklearn-color-background);\n",
       "  position: relative;\n",
       "}\n",
       "\n",
       "#sk-container-id-2 div.sk-parallel-item {\n",
       "  display: flex;\n",
       "  flex-direction: column;\n",
       "}\n",
       "\n",
       "#sk-container-id-2 div.sk-parallel-item:first-child::after {\n",
       "  align-self: flex-end;\n",
       "  width: 50%;\n",
       "}\n",
       "\n",
       "#sk-container-id-2 div.sk-parallel-item:last-child::after {\n",
       "  align-self: flex-start;\n",
       "  width: 50%;\n",
       "}\n",
       "\n",
       "#sk-container-id-2 div.sk-parallel-item:only-child::after {\n",
       "  width: 0;\n",
       "}\n",
       "\n",
       "/* Serial-specific style estimator block */\n",
       "\n",
       "#sk-container-id-2 div.sk-serial {\n",
       "  display: flex;\n",
       "  flex-direction: column;\n",
       "  align-items: center;\n",
       "  background-color: var(--sklearn-color-background);\n",
       "  padding-right: 1em;\n",
       "  padding-left: 1em;\n",
       "}\n",
       "\n",
       "\n",
       "/* Toggleable style: style used for estimator/Pipeline/ColumnTransformer box that is\n",
       "clickable and can be expanded/collapsed.\n",
       "- Pipeline and ColumnTransformer use this feature and define the default style\n",
       "- Estimators will overwrite some part of the style using the `sk-estimator` class\n",
       "*/\n",
       "\n",
       "/* Pipeline and ColumnTransformer style (default) */\n",
       "\n",
       "#sk-container-id-2 div.sk-toggleable {\n",
       "  /* Default theme specific background. It is overwritten whether we have a\n",
       "  specific estimator or a Pipeline/ColumnTransformer */\n",
       "  background-color: var(--sklearn-color-background);\n",
       "}\n",
       "\n",
       "/* Toggleable label */\n",
       "#sk-container-id-2 label.sk-toggleable__label {\n",
       "  cursor: pointer;\n",
       "  display: block;\n",
       "  width: 100%;\n",
       "  margin-bottom: 0;\n",
       "  padding: 0.5em;\n",
       "  box-sizing: border-box;\n",
       "  text-align: center;\n",
       "}\n",
       "\n",
       "#sk-container-id-2 label.sk-toggleable__label-arrow:before {\n",
       "  /* Arrow on the left of the label */\n",
       "  content: \"▸\";\n",
       "  float: left;\n",
       "  margin-right: 0.25em;\n",
       "  color: var(--sklearn-color-icon);\n",
       "}\n",
       "\n",
       "#sk-container-id-2 label.sk-toggleable__label-arrow:hover:before {\n",
       "  color: var(--sklearn-color-text);\n",
       "}\n",
       "\n",
       "/* Toggleable content - dropdown */\n",
       "\n",
       "#sk-container-id-2 div.sk-toggleable__content {\n",
       "  max-height: 0;\n",
       "  max-width: 0;\n",
       "  overflow: hidden;\n",
       "  text-align: left;\n",
       "  /* unfitted */\n",
       "  background-color: var(--sklearn-color-unfitted-level-0);\n",
       "}\n",
       "\n",
       "#sk-container-id-2 div.sk-toggleable__content.fitted {\n",
       "  /* fitted */\n",
       "  background-color: var(--sklearn-color-fitted-level-0);\n",
       "}\n",
       "\n",
       "#sk-container-id-2 div.sk-toggleable__content pre {\n",
       "  margin: 0.2em;\n",
       "  border-radius: 0.25em;\n",
       "  color: var(--sklearn-color-text);\n",
       "  /* unfitted */\n",
       "  background-color: var(--sklearn-color-unfitted-level-0);\n",
       "}\n",
       "\n",
       "#sk-container-id-2 div.sk-toggleable__content.fitted pre {\n",
       "  /* unfitted */\n",
       "  background-color: var(--sklearn-color-fitted-level-0);\n",
       "}\n",
       "\n",
       "#sk-container-id-2 input.sk-toggleable__control:checked~div.sk-toggleable__content {\n",
       "  /* Expand drop-down */\n",
       "  max-height: 200px;\n",
       "  max-width: 100%;\n",
       "  overflow: auto;\n",
       "}\n",
       "\n",
       "#sk-container-id-2 input.sk-toggleable__control:checked~label.sk-toggleable__label-arrow:before {\n",
       "  content: \"▾\";\n",
       "}\n",
       "\n",
       "/* Pipeline/ColumnTransformer-specific style */\n",
       "\n",
       "#sk-container-id-2 div.sk-label input.sk-toggleable__control:checked~label.sk-toggleable__label {\n",
       "  color: var(--sklearn-color-text);\n",
       "  background-color: var(--sklearn-color-unfitted-level-2);\n",
       "}\n",
       "\n",
       "#sk-container-id-2 div.sk-label.fitted input.sk-toggleable__control:checked~label.sk-toggleable__label {\n",
       "  background-color: var(--sklearn-color-fitted-level-2);\n",
       "}\n",
       "\n",
       "/* Estimator-specific style */\n",
       "\n",
       "/* Colorize estimator box */\n",
       "#sk-container-id-2 div.sk-estimator input.sk-toggleable__control:checked~label.sk-toggleable__label {\n",
       "  /* unfitted */\n",
       "  background-color: var(--sklearn-color-unfitted-level-2);\n",
       "}\n",
       "\n",
       "#sk-container-id-2 div.sk-estimator.fitted input.sk-toggleable__control:checked~label.sk-toggleable__label {\n",
       "  /* fitted */\n",
       "  background-color: var(--sklearn-color-fitted-level-2);\n",
       "}\n",
       "\n",
       "#sk-container-id-2 div.sk-label label.sk-toggleable__label,\n",
       "#sk-container-id-2 div.sk-label label {\n",
       "  /* The background is the default theme color */\n",
       "  color: var(--sklearn-color-text-on-default-background);\n",
       "}\n",
       "\n",
       "/* On hover, darken the color of the background */\n",
       "#sk-container-id-2 div.sk-label:hover label.sk-toggleable__label {\n",
       "  color: var(--sklearn-color-text);\n",
       "  background-color: var(--sklearn-color-unfitted-level-2);\n",
       "}\n",
       "\n",
       "/* Label box, darken color on hover, fitted */\n",
       "#sk-container-id-2 div.sk-label.fitted:hover label.sk-toggleable__label.fitted {\n",
       "  color: var(--sklearn-color-text);\n",
       "  background-color: var(--sklearn-color-fitted-level-2);\n",
       "}\n",
       "\n",
       "/* Estimator label */\n",
       "\n",
       "#sk-container-id-2 div.sk-label label {\n",
       "  font-family: monospace;\n",
       "  font-weight: bold;\n",
       "  display: inline-block;\n",
       "  line-height: 1.2em;\n",
       "}\n",
       "\n",
       "#sk-container-id-2 div.sk-label-container {\n",
       "  text-align: center;\n",
       "}\n",
       "\n",
       "/* Estimator-specific */\n",
       "#sk-container-id-2 div.sk-estimator {\n",
       "  font-family: monospace;\n",
       "  border: 1px dotted var(--sklearn-color-border-box);\n",
       "  border-radius: 0.25em;\n",
       "  box-sizing: border-box;\n",
       "  margin-bottom: 0.5em;\n",
       "  /* unfitted */\n",
       "  background-color: var(--sklearn-color-unfitted-level-0);\n",
       "}\n",
       "\n",
       "#sk-container-id-2 div.sk-estimator.fitted {\n",
       "  /* fitted */\n",
       "  background-color: var(--sklearn-color-fitted-level-0);\n",
       "}\n",
       "\n",
       "/* on hover */\n",
       "#sk-container-id-2 div.sk-estimator:hover {\n",
       "  /* unfitted */\n",
       "  background-color: var(--sklearn-color-unfitted-level-2);\n",
       "}\n",
       "\n",
       "#sk-container-id-2 div.sk-estimator.fitted:hover {\n",
       "  /* fitted */\n",
       "  background-color: var(--sklearn-color-fitted-level-2);\n",
       "}\n",
       "\n",
       "/* Specification for estimator info (e.g. \"i\" and \"?\") */\n",
       "\n",
       "/* Common style for \"i\" and \"?\" */\n",
       "\n",
       ".sk-estimator-doc-link,\n",
       "a:link.sk-estimator-doc-link,\n",
       "a:visited.sk-estimator-doc-link {\n",
       "  float: right;\n",
       "  font-size: smaller;\n",
       "  line-height: 1em;\n",
       "  font-family: monospace;\n",
       "  background-color: var(--sklearn-color-background);\n",
       "  border-radius: 1em;\n",
       "  height: 1em;\n",
       "  width: 1em;\n",
       "  text-decoration: none !important;\n",
       "  margin-left: 1ex;\n",
       "  /* unfitted */\n",
       "  border: var(--sklearn-color-unfitted-level-1) 1pt solid;\n",
       "  color: var(--sklearn-color-unfitted-level-1);\n",
       "}\n",
       "\n",
       ".sk-estimator-doc-link.fitted,\n",
       "a:link.sk-estimator-doc-link.fitted,\n",
       "a:visited.sk-estimator-doc-link.fitted {\n",
       "  /* fitted */\n",
       "  border: var(--sklearn-color-fitted-level-1) 1pt solid;\n",
       "  color: var(--sklearn-color-fitted-level-1);\n",
       "}\n",
       "\n",
       "/* On hover */\n",
       "div.sk-estimator:hover .sk-estimator-doc-link:hover,\n",
       ".sk-estimator-doc-link:hover,\n",
       "div.sk-label-container:hover .sk-estimator-doc-link:hover,\n",
       ".sk-estimator-doc-link:hover {\n",
       "  /* unfitted */\n",
       "  background-color: var(--sklearn-color-unfitted-level-3);\n",
       "  color: var(--sklearn-color-background);\n",
       "  text-decoration: none;\n",
       "}\n",
       "\n",
       "div.sk-estimator.fitted:hover .sk-estimator-doc-link.fitted:hover,\n",
       ".sk-estimator-doc-link.fitted:hover,\n",
       "div.sk-label-container:hover .sk-estimator-doc-link.fitted:hover,\n",
       ".sk-estimator-doc-link.fitted:hover {\n",
       "  /* fitted */\n",
       "  background-color: var(--sklearn-color-fitted-level-3);\n",
       "  color: var(--sklearn-color-background);\n",
       "  text-decoration: none;\n",
       "}\n",
       "\n",
       "/* Span, style for the box shown on hovering the info icon */\n",
       ".sk-estimator-doc-link span {\n",
       "  display: none;\n",
       "  z-index: 9999;\n",
       "  position: relative;\n",
       "  font-weight: normal;\n",
       "  right: .2ex;\n",
       "  padding: .5ex;\n",
       "  margin: .5ex;\n",
       "  width: min-content;\n",
       "  min-width: 20ex;\n",
       "  max-width: 50ex;\n",
       "  color: var(--sklearn-color-text);\n",
       "  box-shadow: 2pt 2pt 4pt #999;\n",
       "  /* unfitted */\n",
       "  background: var(--sklearn-color-unfitted-level-0);\n",
       "  border: .5pt solid var(--sklearn-color-unfitted-level-3);\n",
       "}\n",
       "\n",
       ".sk-estimator-doc-link.fitted span {\n",
       "  /* fitted */\n",
       "  background: var(--sklearn-color-fitted-level-0);\n",
       "  border: var(--sklearn-color-fitted-level-3);\n",
       "}\n",
       "\n",
       ".sk-estimator-doc-link:hover span {\n",
       "  display: block;\n",
       "}\n",
       "\n",
       "/* \"?\"-specific style due to the `<a>` HTML tag */\n",
       "\n",
       "#sk-container-id-2 a.estimator_doc_link {\n",
       "  float: right;\n",
       "  font-size: 1rem;\n",
       "  line-height: 1em;\n",
       "  font-family: monospace;\n",
       "  background-color: var(--sklearn-color-background);\n",
       "  border-radius: 1rem;\n",
       "  height: 1rem;\n",
       "  width: 1rem;\n",
       "  text-decoration: none;\n",
       "  /* unfitted */\n",
       "  color: var(--sklearn-color-unfitted-level-1);\n",
       "  border: var(--sklearn-color-unfitted-level-1) 1pt solid;\n",
       "}\n",
       "\n",
       "#sk-container-id-2 a.estimator_doc_link.fitted {\n",
       "  /* fitted */\n",
       "  border: var(--sklearn-color-fitted-level-1) 1pt solid;\n",
       "  color: var(--sklearn-color-fitted-level-1);\n",
       "}\n",
       "\n",
       "/* On hover */\n",
       "#sk-container-id-2 a.estimator_doc_link:hover {\n",
       "  /* unfitted */\n",
       "  background-color: var(--sklearn-color-unfitted-level-3);\n",
       "  color: var(--sklearn-color-background);\n",
       "  text-decoration: none;\n",
       "}\n",
       "\n",
       "#sk-container-id-2 a.estimator_doc_link.fitted:hover {\n",
       "  /* fitted */\n",
       "  background-color: var(--sklearn-color-fitted-level-3);\n",
       "}\n",
       "</style><div id=\"sk-container-id-2\" class=\"sk-top-container\"><div class=\"sk-text-repr-fallback\"><pre>RFE(estimator=LinearRegression(), n_features_to_select=5)</pre><b>In a Jupyter environment, please rerun this cell to show the HTML representation or trust the notebook. <br />On GitHub, the HTML representation is unable to render, please try loading this page with nbviewer.org.</b></div><div class=\"sk-container\" hidden><div class=\"sk-item sk-dashed-wrapped\"><div class=\"sk-label-container\"><div class=\"sk-label fitted sk-toggleable\"><input class=\"sk-toggleable__control sk-hidden--visually\" id=\"sk-estimator-id-2\" type=\"checkbox\" ><label for=\"sk-estimator-id-2\" class=\"sk-toggleable__label fitted sk-toggleable__label-arrow fitted\">&nbsp;&nbsp;RFE<a class=\"sk-estimator-doc-link fitted\" rel=\"noreferrer\" target=\"_blank\" href=\"https://scikit-learn.org/1.5/modules/generated/sklearn.feature_selection.RFE.html\">?<span>Documentation for RFE</span></a><span class=\"sk-estimator-doc-link fitted\">i<span>Fitted</span></span></label><div class=\"sk-toggleable__content fitted\"><pre>RFE(estimator=LinearRegression(), n_features_to_select=5)</pre></div> </div></div><div class=\"sk-parallel\"><div class=\"sk-parallel-item\"><div class=\"sk-item\"><div class=\"sk-label-container\"><div class=\"sk-label fitted sk-toggleable\"><input class=\"sk-toggleable__control sk-hidden--visually\" id=\"sk-estimator-id-3\" type=\"checkbox\" ><label for=\"sk-estimator-id-3\" class=\"sk-toggleable__label fitted sk-toggleable__label-arrow fitted\">estimator: LinearRegression</label><div class=\"sk-toggleable__content fitted\"><pre>LinearRegression()</pre></div> </div></div><div class=\"sk-serial\"><div class=\"sk-item\"><div class=\"sk-estimator fitted sk-toggleable\"><input class=\"sk-toggleable__control sk-hidden--visually\" id=\"sk-estimator-id-4\" type=\"checkbox\" ><label for=\"sk-estimator-id-4\" class=\"sk-toggleable__label fitted sk-toggleable__label-arrow fitted\">&nbsp;LinearRegression<a class=\"sk-estimator-doc-link fitted\" rel=\"noreferrer\" target=\"_blank\" href=\"https://scikit-learn.org/1.5/modules/generated/sklearn.linear_model.LinearRegression.html\">?<span>Documentation for LinearRegression</span></a></label><div class=\"sk-toggleable__content fitted\"><pre>LinearRegression()</pre></div> </div></div></div></div></div></div></div></div></div>"
      ],
      "text/plain": [
       "RFE(estimator=LinearRegression(), n_features_to_select=5)"
      ]
     },
     "execution_count": 51,
     "metadata": {},
     "output_type": "execute_result"
    }
   ],
   "source": [
    "rfe.fit(Xtrain,ytrain)"
   ]
  },
  {
   "cell_type": "code",
   "execution_count": 52,
   "id": "3b5db215-0737-406f-8284-f65e975be11b",
   "metadata": {},
   "outputs": [],
   "source": [
    "Ranking = rfe.ranking_"
   ]
  },
  {
   "cell_type": "code",
   "execution_count": 53,
   "id": "7a787994-4f7c-4177-9634-81299335ad8f",
   "metadata": {},
   "outputs": [],
   "source": [
    "features = Xtrain.columns"
   ]
  },
  {
   "cell_type": "code",
   "execution_count": 54,
   "id": "f2f08df1-0d20-43c3-b33a-58b34aa784e7",
   "metadata": {},
   "outputs": [],
   "source": [
    "rfe_rank = pd.DataFrame({'Feature': features, 'Ranking': Ranking})"
   ]
  },
  {
   "cell_type": "code",
   "execution_count": 55,
   "id": "a3de3939-dc67-4228-ab31-c3d982087f6c",
   "metadata": {},
   "outputs": [
    {
     "data": {
      "text/html": [
       "<div>\n",
       "<style scoped>\n",
       "    .dataframe tbody tr th:only-of-type {\n",
       "        vertical-align: middle;\n",
       "    }\n",
       "\n",
       "    .dataframe tbody tr th {\n",
       "        vertical-align: top;\n",
       "    }\n",
       "\n",
       "    .dataframe thead th {\n",
       "        text-align: right;\n",
       "    }\n",
       "</style>\n",
       "<table border=\"1\" class=\"dataframe\">\n",
       "  <thead>\n",
       "    <tr style=\"text-align: right;\">\n",
       "      <th></th>\n",
       "      <th>Feature</th>\n",
       "      <th>Ranking</th>\n",
       "    </tr>\n",
       "  </thead>\n",
       "  <tbody>\n",
       "    <tr>\n",
       "      <th>1</th>\n",
       "      <td>disp</td>\n",
       "      <td>1</td>\n",
       "    </tr>\n",
       "    <tr>\n",
       "      <th>2</th>\n",
       "      <td>hp</td>\n",
       "      <td>1</td>\n",
       "    </tr>\n",
       "    <tr>\n",
       "      <th>3</th>\n",
       "      <td>wt</td>\n",
       "      <td>1</td>\n",
       "    </tr>\n",
       "    <tr>\n",
       "      <th>5</th>\n",
       "      <td>yr</td>\n",
       "      <td>1</td>\n",
       "    </tr>\n",
       "    <tr>\n",
       "      <th>6</th>\n",
       "      <td>origin</td>\n",
       "      <td>1</td>\n",
       "    </tr>\n",
       "    <tr>\n",
       "      <th>0</th>\n",
       "      <td>cyl</td>\n",
       "      <td>2</td>\n",
       "    </tr>\n",
       "    <tr>\n",
       "      <th>4</th>\n",
       "      <td>acc</td>\n",
       "      <td>3</td>\n",
       "    </tr>\n",
       "  </tbody>\n",
       "</table>\n",
       "</div>"
      ],
      "text/plain": [
       "  Feature  Ranking\n",
       "1    disp        1\n",
       "2      hp        1\n",
       "3      wt        1\n",
       "5      yr        1\n",
       "6  origin        1\n",
       "0     cyl        2\n",
       "4     acc        3"
      ]
     },
     "execution_count": 55,
     "metadata": {},
     "output_type": "execute_result"
    }
   ],
   "source": [
    "rfe_rank.sort_values(by = 'Ranking')"
   ]
  },
  {
   "cell_type": "markdown",
   "id": "f04ec462-9b91-4751-a98e-7e7147415d9f",
   "metadata": {},
   "source": [
    "### Observation:\n",
    "- Top features include `wt`, `yr`, `acc`, and `origin` — selected for final model based on feature ranking."
   ]
  },
  {
   "cell_type": "code",
   "execution_count": 56,
   "id": "5fd0218d-c219-421e-a83a-095cb5aa8e80",
   "metadata": {},
   "outputs": [
    {
     "data": {
      "text/html": [
       "<div>\n",
       "<style scoped>\n",
       "    .dataframe tbody tr th:only-of-type {\n",
       "        vertical-align: middle;\n",
       "    }\n",
       "\n",
       "    .dataframe tbody tr th {\n",
       "        vertical-align: top;\n",
       "    }\n",
       "\n",
       "    .dataframe thead th {\n",
       "        text-align: right;\n",
       "    }\n",
       "</style>\n",
       "<table border=\"1\" class=\"dataframe\">\n",
       "  <thead>\n",
       "    <tr style=\"text-align: right;\">\n",
       "      <th></th>\n",
       "      <th>Feature</th>\n",
       "      <th>VIF</th>\n",
       "      <th>RFE</th>\n",
       "      <th>Select_K_Best</th>\n",
       "    </tr>\n",
       "  </thead>\n",
       "  <tbody>\n",
       "    <tr>\n",
       "      <th>0</th>\n",
       "      <td>wt</td>\n",
       "      <td>11.696694</td>\n",
       "      <td>1</td>\n",
       "      <td>729.589493</td>\n",
       "    </tr>\n",
       "    <tr>\n",
       "      <th>1</th>\n",
       "      <td>disp</td>\n",
       "      <td>21.095814</td>\n",
       "      <td>1</td>\n",
       "      <td>562.472684</td>\n",
       "    </tr>\n",
       "    <tr>\n",
       "      <th>2</th>\n",
       "      <td>hp</td>\n",
       "      <td>11.150699</td>\n",
       "      <td>1</td>\n",
       "      <td>499.870788</td>\n",
       "    </tr>\n",
       "    <tr>\n",
       "      <th>3</th>\n",
       "      <td>cyl</td>\n",
       "      <td>10.612781</td>\n",
       "      <td>2</td>\n",
       "      <td>490.187668</td>\n",
       "    </tr>\n",
       "    <tr>\n",
       "      <th>4</th>\n",
       "      <td>yr</td>\n",
       "      <td>1.252293</td>\n",
       "      <td>1</td>\n",
       "      <td>166.893060</td>\n",
       "    </tr>\n",
       "    <tr>\n",
       "      <th>5</th>\n",
       "      <td>origin</td>\n",
       "      <td>1.763531</td>\n",
       "      <td>1</td>\n",
       "      <td>161.814648</td>\n",
       "    </tr>\n",
       "    <tr>\n",
       "      <th>6</th>\n",
       "      <td>acc</td>\n",
       "      <td>2.857253</td>\n",
       "      <td>3</td>\n",
       "      <td>63.675923</td>\n",
       "    </tr>\n",
       "  </tbody>\n",
       "</table>\n",
       "</div>"
      ],
      "text/plain": [
       "  Feature        VIF  RFE  Select_K_Best\n",
       "0      wt  11.696694    1     729.589493\n",
       "1    disp  21.095814    1     562.472684\n",
       "2      hp  11.150699    1     499.870788\n",
       "3     cyl  10.612781    2     490.187668\n",
       "4      yr   1.252293    1     166.893060\n",
       "5  origin   1.763531    1     161.814648\n",
       "6     acc   2.857253    3      63.675923"
      ]
     },
     "execution_count": 56,
     "metadata": {},
     "output_type": "execute_result"
    }
   ],
   "source": [
    "comparison_df = vif.merge(rfe_rank, on='Feature')\n",
    "comparison_df = comparison_df.merge(feature_scores, on='Feature')\n",
    "comparison_df.rename(columns = {'VIF':'VIF','Ranking':'RFE','Score':'Select_K_Best'},inplace = True)\n",
    "comparison_df = comparison_df.sort_values(by=['Select_K_Best', 'RFE', 'VIF'],ascending=[False, True, True]).reset_index().drop('index',axis = 1)\n",
    "comparison_df"
   ]
  },
  {
   "cell_type": "markdown",
   "id": "74fe26fb-6464-4567-80e5-7a213fadebc9",
   "metadata": {},
   "source": [
    "# **Creating model with selected features**"
   ]
  },
  {
   "cell_type": "code",
   "execution_count": 57,
   "id": "65dc72e8-5971-491a-ac87-b8c9aa7f4a8a",
   "metadata": {},
   "outputs": [],
   "source": [
    "Xtrain_fs = Xtrain[['origin','yr','wt','acc']]"
   ]
  },
  {
   "cell_type": "code",
   "execution_count": 58,
   "id": "9d566358-da62-47a4-82ae-65a258c30a35",
   "metadata": {},
   "outputs": [],
   "source": [
    "Xtest_fs =  Xtest[['origin','yr','wt','acc']]"
   ]
  },
  {
   "cell_type": "markdown",
   "id": "af13faa2-84cb-45cc-a8a0-0bc62812511b",
   "metadata": {},
   "source": [
    "# **Modelling**"
   ]
  },
  {
   "cell_type": "code",
   "execution_count": 59,
   "id": "14cd41c6-6fbf-4d2f-a23e-4caafb8d5dd5",
   "metadata": {},
   "outputs": [],
   "source": [
    "lr = LinearRegression()\n",
    "model_1 = lr.fit(Xtrain_fs,ytrain)"
   ]
  },
  {
   "cell_type": "markdown",
   "id": "c763c559-fade-44cd-b6ca-41b27027dc28",
   "metadata": {},
   "source": [
    "### **Predictions on Training Data**"
   ]
  },
  {
   "cell_type": "code",
   "execution_count": 60,
   "id": "7bbf81b1-9ad8-46ed-a5ab-39588c7c2184",
   "metadata": {},
   "outputs": [],
   "source": [
    "train_pred_1 = model_1.predict(Xtrain_fs)"
   ]
  },
  {
   "cell_type": "markdown",
   "id": "230bd00b-a019-4804-a0e3-1a412dfa5498",
   "metadata": {},
   "source": [
    "### **Predictions on Test Data**"
   ]
  },
  {
   "cell_type": "code",
   "execution_count": 61,
   "id": "23b50a77-31cc-4172-8507-de6b72edb26c",
   "metadata": {},
   "outputs": [],
   "source": [
    "test_pred_1 = model_1.predict(Xtest_fs)"
   ]
  },
  {
   "cell_type": "markdown",
   "id": "833a302b-a79e-430c-b986-35057741b417",
   "metadata": {},
   "source": [
    "# **Checking Performance**"
   ]
  },
  {
   "cell_type": "markdown",
   "id": "3892155d-aec4-4bac-ac07-68505dc08df5",
   "metadata": {},
   "source": [
    "### **R2 Score (Train Data)**"
   ]
  },
  {
   "cell_type": "code",
   "execution_count": 62,
   "id": "bc6c0917-1436-4599-99cd-71c1d02955fd",
   "metadata": {},
   "outputs": [
    {
     "data": {
      "text/plain": [
       "0.8216302286268368"
      ]
     },
     "execution_count": 62,
     "metadata": {},
     "output_type": "execute_result"
    }
   ],
   "source": [
    "r2_train_lr = r2_score(ytrain,train_pred_1)\n",
    "r2_train_lr"
   ]
  },
  {
   "cell_type": "markdown",
   "id": "79fc7aff-abb9-4a59-bffc-17c9b1f77f51",
   "metadata": {},
   "source": [
    "### **R2 Score (Test Data)**"
   ]
  },
  {
   "cell_type": "code",
   "execution_count": 63,
   "id": "bcc4172d-5bc4-497a-a2af-4da121b074bb",
   "metadata": {},
   "outputs": [
    {
     "data": {
      "text/plain": [
       "0.7794160983654366"
      ]
     },
     "execution_count": 63,
     "metadata": {},
     "output_type": "execute_result"
    }
   ],
   "source": [
    "r2_test_lr = r2_score(ytest,test_pred_1)\n",
    "r2_test_lr"
   ]
  },
  {
   "cell_type": "markdown",
   "id": "2e00d3f1-bffd-47a3-bd75-4f1a24d65059",
   "metadata": {},
   "source": [
    "### **Mean Squared Error (Train Data)**"
   ]
  },
  {
   "cell_type": "code",
   "execution_count": 64,
   "id": "f49d0ac8-90eb-42fb-ab78-52b798384ff7",
   "metadata": {},
   "outputs": [
    {
     "data": {
      "text/plain": [
       "9.945027986746057"
      ]
     },
     "execution_count": 64,
     "metadata": {},
     "output_type": "execute_result"
    }
   ],
   "source": [
    "mse_train_lr = mean_squared_error(train_pred_1,ytrain)\n",
    "mse_train_lr"
   ]
  },
  {
   "cell_type": "markdown",
   "id": "4bdf8c91-f100-4d40-9717-671a9c5d60b3",
   "metadata": {},
   "source": [
    "### **Mean Squared Error (Test Data)**"
   ]
  },
  {
   "cell_type": "code",
   "execution_count": 65,
   "id": "b6fa2095-1bd6-4ff7-92b4-daf16b70600e",
   "metadata": {},
   "outputs": [
    {
     "data": {
      "text/plain": [
       "16.398082128620356"
      ]
     },
     "execution_count": 65,
     "metadata": {},
     "output_type": "execute_result"
    }
   ],
   "source": [
    "mse_test_lr = mean_squared_error(test_pred_1,ytest)\n",
    "mse_test_lr"
   ]
  },
  {
   "cell_type": "markdown",
   "id": "fe1ab59d-66dd-436e-a158-2262119e97e3",
   "metadata": {},
   "source": [
    "### **Root Mean Squared Error (Train Data)**"
   ]
  },
  {
   "cell_type": "code",
   "execution_count": 66,
   "id": "d08d624b-6355-42ea-b53b-0db17d4d31b1",
   "metadata": {},
   "outputs": [
    {
     "data": {
      "text/plain": [
       "3.1535738435537"
      ]
     },
     "execution_count": 66,
     "metadata": {},
     "output_type": "execute_result"
    }
   ],
   "source": [
    "rmse_train_lr = np.sqrt(mean_squared_error(train_pred_1,ytrain))\n",
    "rmse_train_lr"
   ]
  },
  {
   "cell_type": "markdown",
   "id": "7607e441-2fcc-421e-ac3c-c7276079c861",
   "metadata": {},
   "source": [
    "### **Root Mean Squared Error (Test Data)**"
   ]
  },
  {
   "cell_type": "code",
   "execution_count": 67,
   "id": "746f5635-583d-4d1f-9f58-cd96c7c8060a",
   "metadata": {},
   "outputs": [
    {
     "data": {
      "text/plain": [
       "4.04945454704956"
      ]
     },
     "execution_count": 67,
     "metadata": {},
     "output_type": "execute_result"
    }
   ],
   "source": [
    "rmse_test_lr = np.sqrt(mean_squared_error(test_pred_1,ytest))\n",
    "rmse_test_lr"
   ]
  },
  {
   "cell_type": "code",
   "execution_count": 68,
   "id": "528406fc-3f7d-4b8d-b5b8-a418aded9ede",
   "metadata": {},
   "outputs": [
    {
     "data": {
      "text/plain": [
       "array([ 1.23349865,  2.54189169, -4.71596469,  0.2440382 ])"
      ]
     },
     "execution_count": 68,
     "metadata": {},
     "output_type": "execute_result"
    }
   ],
   "source": [
    "coef_lr = model_1.coef_\n",
    "coef_lr"
   ]
  },
  {
   "cell_type": "code",
   "execution_count": 69,
   "id": "0ec17d6f-ff65-4685-8876-c8ed2b7a525c",
   "metadata": {},
   "outputs": [
    {
     "data": {
      "text/plain": [
       "20.942551650575645"
      ]
     },
     "execution_count": 69,
     "metadata": {},
     "output_type": "execute_result"
    }
   ],
   "source": [
    "intercept_lr = model_1.intercept_\n",
    "intercept_lr"
   ]
  },
  {
   "cell_type": "markdown",
   "id": "05476516-4cde-4cf0-a891-974d1cd32f14",
   "metadata": {},
   "source": [
    "# **Ridge Regression**"
   ]
  },
  {
   "cell_type": "code",
   "execution_count": 70,
   "id": "0e17ca76-7dfe-4e6d-9ffe-9aaef164ca7c",
   "metadata": {},
   "outputs": [],
   "source": [
    "r = Ridge(alpha = 1)\n",
    "model_2 = r.fit(Xtrain_fs,ytrain)"
   ]
  },
  {
   "cell_type": "markdown",
   "id": "ab1bd645-5f95-45ad-8195-ec02f6398ed9",
   "metadata": {},
   "source": [
    "### **Prediction on Training Data**"
   ]
  },
  {
   "cell_type": "code",
   "execution_count": 71,
   "id": "146da12b-681f-4010-8ad9-7c73c5b2c59c",
   "metadata": {},
   "outputs": [],
   "source": [
    "train_pred_2  = model_2.predict(Xtrain_fs)"
   ]
  },
  {
   "cell_type": "markdown",
   "id": "34e86994-011d-4c1b-a2ab-dc24cddc4be1",
   "metadata": {},
   "source": [
    "### **Prediction on Test Data**"
   ]
  },
  {
   "cell_type": "code",
   "execution_count": 72,
   "id": "810dbe18-43d5-4216-9d62-53138e9a6cbd",
   "metadata": {},
   "outputs": [],
   "source": [
    "test_pred_2 = model_2.predict(Xtest_fs)"
   ]
  },
  {
   "cell_type": "markdown",
   "id": "085c236e-f171-432d-823b-2a71dbd567fe",
   "metadata": {},
   "source": [
    "# **Checking Performance**"
   ]
  },
  {
   "cell_type": "markdown",
   "id": "62d02bc0-96ba-4d6e-9420-e1dc224a3ed0",
   "metadata": {},
   "source": [
    "### **R2 Score (Training Data)**"
   ]
  },
  {
   "cell_type": "code",
   "execution_count": 73,
   "id": "3adf3b02-7a46-41eb-ba21-471c627b9b67",
   "metadata": {},
   "outputs": [
    {
     "data": {
      "text/plain": [
       "0.8216247266909678"
      ]
     },
     "execution_count": 73,
     "metadata": {},
     "output_type": "execute_result"
    }
   ],
   "source": [
    "r2_train_ridge = metrics.r2_score(ytrain,train_pred_2)\n",
    "r2_train_ridge"
   ]
  },
  {
   "cell_type": "markdown",
   "id": "143f0914-c17c-4168-aaef-0437ca0808e1",
   "metadata": {},
   "source": [
    "### **R2 Score (Test Data)**"
   ]
  },
  {
   "cell_type": "code",
   "execution_count": 74,
   "id": "2f54debd-736a-45cf-9b25-5c0dc0a0f236",
   "metadata": {},
   "outputs": [
    {
     "data": {
      "text/plain": [
       "0.7787273630671268"
      ]
     },
     "execution_count": 74,
     "metadata": {},
     "output_type": "execute_result"
    }
   ],
   "source": [
    "r2_test_ridge  = metrics.r2_score(ytest,test_pred_2)\n",
    "r2_test_ridge"
   ]
  },
  {
   "cell_type": "markdown",
   "id": "d293a78d-5083-4200-9550-cfae90cc869c",
   "metadata": {},
   "source": [
    "### **MSE (Training Data)**"
   ]
  },
  {
   "cell_type": "code",
   "execution_count": 75,
   "id": "1fab6e8b-f6a2-4ae8-b0b4-653109d93cae",
   "metadata": {},
   "outputs": [
    {
     "data": {
      "text/plain": [
       "9.945334747840034"
      ]
     },
     "execution_count": 75,
     "metadata": {},
     "output_type": "execute_result"
    }
   ],
   "source": [
    "mse_train_ridge = mean_squared_error(ytrain,train_pred_2)\n",
    "mse_train_ridge"
   ]
  },
  {
   "cell_type": "markdown",
   "id": "0b391b8b-6724-4a2c-a45b-eafe1888abb8",
   "metadata": {},
   "source": [
    "### **MSE (Test Data)**"
   ]
  },
  {
   "cell_type": "code",
   "execution_count": 76,
   "id": "58005781-f5d7-44c6-af36-69924309d792",
   "metadata": {},
   "outputs": [
    {
     "data": {
      "text/plain": [
       "16.449282320034477"
      ]
     },
     "execution_count": 76,
     "metadata": {},
     "output_type": "execute_result"
    }
   ],
   "source": [
    "mse_test_ridge = mean_squared_error(ytest,test_pred_2)\n",
    "mse_test_ridge"
   ]
  },
  {
   "cell_type": "markdown",
   "id": "2f546431-c203-4ac8-99da-659de71fa077",
   "metadata": {},
   "source": [
    "### **RMSE (Training Data)**"
   ]
  },
  {
   "cell_type": "code",
   "execution_count": 77,
   "id": "e2d50c75-acbb-40c5-88df-5e22700350ed",
   "metadata": {},
   "outputs": [
    {
     "data": {
      "text/plain": [
       "3.153622480234442"
      ]
     },
     "execution_count": 77,
     "metadata": {},
     "output_type": "execute_result"
    }
   ],
   "source": [
    "rmse_train_ridge = np.sqrt(mean_squared_error(ytrain,train_pred_2))\n",
    "rmse_train_ridge"
   ]
  },
  {
   "cell_type": "markdown",
   "id": "d6c33ce1-99d3-48d6-8497-9463326f865d",
   "metadata": {},
   "source": [
    "### **RMSE (Test Data)**"
   ]
  },
  {
   "cell_type": "code",
   "execution_count": 78,
   "id": "83e6c713-edc0-4b57-a30e-048cb512a83b",
   "metadata": {},
   "outputs": [
    {
     "data": {
      "text/plain": [
       "4.055771482718729"
      ]
     },
     "execution_count": 78,
     "metadata": {},
     "output_type": "execute_result"
    }
   ],
   "source": [
    "rmse_test_ridge = np.sqrt(mean_squared_error(ytest,test_pred_2))\n",
    "rmse_test_ridge"
   ]
  },
  {
   "cell_type": "markdown",
   "id": "2f86a1cb-8833-4699-8e71-f725c8453a47",
   "metadata": {},
   "source": [
    "# **Lasso Regression**"
   ]
  },
  {
   "cell_type": "code",
   "execution_count": 79,
   "id": "e5aa3231-65bc-4aaf-ac97-21df3707b5db",
   "metadata": {},
   "outputs": [],
   "source": [
    "l = Lasso(alpha = 1)\n",
    "model_3 = l.fit(Xtrain_fs,ytrain)"
   ]
  },
  {
   "cell_type": "markdown",
   "id": "6b62c876-eebc-414c-bea1-656622c07079",
   "metadata": {},
   "source": [
    "### **Prediction on Training Data**"
   ]
  },
  {
   "cell_type": "code",
   "execution_count": 80,
   "id": "4aee5e0a-60ed-4b4d-8971-79f4878a917f",
   "metadata": {},
   "outputs": [],
   "source": [
    "train_pred_3 = model_3.predict(Xtrain_fs)"
   ]
  },
  {
   "cell_type": "markdown",
   "id": "c04144ff-5175-45e2-b31f-9329feb31ab8",
   "metadata": {},
   "source": [
    "### **Prediction on Test Data**"
   ]
  },
  {
   "cell_type": "code",
   "execution_count": 81,
   "id": "45463aa8-2313-4d87-aef9-cf5064ea7537",
   "metadata": {},
   "outputs": [],
   "source": [
    "test_pred_3 = model_3.predict(Xtest_fs)"
   ]
  },
  {
   "cell_type": "markdown",
   "id": "bcc3a282-66a1-4d40-ab1a-a7b21a05b9ba",
   "metadata": {},
   "source": [
    "# **Checking Performance**"
   ]
  },
  {
   "cell_type": "markdown",
   "id": "2420e88e-c206-4192-8201-976d4baafcf8",
   "metadata": {},
   "source": [
    "### **R2 Score (Training Data)**"
   ]
  },
  {
   "cell_type": "code",
   "execution_count": 82,
   "id": "d3fee4ad-ba15-4c36-aa2a-544bcec34cd9",
   "metadata": {},
   "outputs": [
    {
     "data": {
      "text/plain": [
       "0.7828590635498927"
      ]
     },
     "execution_count": 82,
     "metadata": {},
     "output_type": "execute_result"
    }
   ],
   "source": [
    "r2_train_lasso = metrics.r2_score(ytrain,train_pred_3)\n",
    "r2_train_lasso"
   ]
  },
  {
   "cell_type": "markdown",
   "id": "8ee7a959-66d1-493b-be3e-8aa80ac1f316",
   "metadata": {},
   "source": [
    "### **R2 Score (Test Data)**"
   ]
  },
  {
   "cell_type": "code",
   "execution_count": 83,
   "id": "a484ad98-6409-44d7-aaae-0f4253ca9e7f",
   "metadata": {},
   "outputs": [
    {
     "data": {
      "text/plain": [
       "0.7109442447384835"
      ]
     },
     "execution_count": 83,
     "metadata": {},
     "output_type": "execute_result"
    }
   ],
   "source": [
    "r2_test_lasso = metrics.r2_score(ytest,test_pred_3)\n",
    "r2_test_lasso"
   ]
  },
  {
   "cell_type": "markdown",
   "id": "992afa83-3a8c-4a7d-bfa0-def532a09401",
   "metadata": {},
   "source": [
    "### **MSE (Training Data)**"
   ]
  },
  {
   "cell_type": "code",
   "execution_count": 84,
   "id": "212396c7-a1f9-45e4-9d4a-427dbfbcc3ab",
   "metadata": {},
   "outputs": [
    {
     "data": {
      "text/plain": [
       "12.10671894368684"
      ]
     },
     "execution_count": 84,
     "metadata": {},
     "output_type": "execute_result"
    }
   ],
   "source": [
    "mse_train_lasso = mean_squared_error(ytrain,train_pred_3)\n",
    "mse_train_lasso"
   ]
  },
  {
   "cell_type": "markdown",
   "id": "128abf5e-7f7e-490d-a300-6077de48c5d0",
   "metadata": {},
   "source": [
    "### **MSE (Test Data)**"
   ]
  },
  {
   "cell_type": "code",
   "execution_count": 85,
   "id": "f61f9052-91f1-4091-90a2-2c90f14d9d1a",
   "metadata": {},
   "outputs": [
    {
     "data": {
      "text/plain": [
       "21.48824088886288"
      ]
     },
     "execution_count": 85,
     "metadata": {},
     "output_type": "execute_result"
    }
   ],
   "source": [
    "mse_test_lasso = mean_squared_error(ytest,test_pred_3)\n",
    "mse_test_lasso"
   ]
  },
  {
   "cell_type": "markdown",
   "id": "a3f7f263-06b3-42dc-8c32-0c9e6530931e",
   "metadata": {},
   "source": [
    "### **RMSE (Training Data)**"
   ]
  },
  {
   "cell_type": "code",
   "execution_count": 86,
   "id": "74011ef1-f13c-4f7c-83ca-43538fb35ca4",
   "metadata": {},
   "outputs": [
    {
     "data": {
      "text/plain": [
       "3.479471072402649"
      ]
     },
     "execution_count": 86,
     "metadata": {},
     "output_type": "execute_result"
    }
   ],
   "source": [
    "rmse_train_lasso = np.sqrt(mean_squared_error(ytrain,train_pred_3))\n",
    "rmse_train_lasso"
   ]
  },
  {
   "cell_type": "markdown",
   "id": "a5bd8521-b19e-46d4-9e54-ac9cfde3787b",
   "metadata": {},
   "source": [
    "### **RMSE (Test Data)**"
   ]
  },
  {
   "cell_type": "code",
   "execution_count": 87,
   "id": "3c5e776d-60ad-4bfb-99a5-60ddaa1d3440",
   "metadata": {},
   "outputs": [
    {
     "data": {
      "text/plain": [
       "4.635541056755175"
      ]
     },
     "execution_count": 87,
     "metadata": {},
     "output_type": "execute_result"
    }
   ],
   "source": [
    "rmse_test_lasso = np.sqrt(mean_squared_error(ytest,test_pred_3))\n",
    "rmse_test_lasso"
   ]
  },
  {
   "cell_type": "markdown",
   "id": "077f3e3e-5542-4a7c-89e1-3524293b3854",
   "metadata": {},
   "source": [
    "# **Elastic Net Regression**"
   ]
  },
  {
   "cell_type": "code",
   "execution_count": 88,
   "id": "930d246a-2662-4d7a-929f-d715c353d79f",
   "metadata": {},
   "outputs": [],
   "source": [
    "en = ElasticNet(alpha=1,l1_ratio=0.5,random_state=42)\n",
    "model_4 = en.fit(Xtrain_fs,ytrain)"
   ]
  },
  {
   "cell_type": "markdown",
   "id": "61563ed8-e8b4-423a-9095-3596f790cd42",
   "metadata": {},
   "source": [
    "### **Prediction on Training Data**"
   ]
  },
  {
   "cell_type": "code",
   "execution_count": 89,
   "id": "096302f3-5967-4bd3-85a7-3228a9f8de12",
   "metadata": {},
   "outputs": [],
   "source": [
    "train_pred_4 = model_4.predict(Xtrain_fs)"
   ]
  },
  {
   "cell_type": "markdown",
   "id": "b522c2b9-8096-4df1-b497-1edb20cb131f",
   "metadata": {},
   "source": [
    "### **Prediction on Test Data**"
   ]
  },
  {
   "cell_type": "code",
   "execution_count": 90,
   "id": "e804927f-09ea-483f-bbe8-c81e96b134a2",
   "metadata": {},
   "outputs": [],
   "source": [
    "test_pred_4 = model_4.predict(Xtest_fs)"
   ]
  },
  {
   "cell_type": "markdown",
   "id": "69b9f3f3-949c-4929-a908-c6662d700bc0",
   "metadata": {},
   "source": [
    "# **Checking Performance**"
   ]
  },
  {
   "cell_type": "markdown",
   "id": "3d2fc0ca-f19b-41c3-9ebb-c66925ee2665",
   "metadata": {},
   "source": [
    "### **R2 Score (Training Data)**"
   ]
  },
  {
   "cell_type": "code",
   "execution_count": 91,
   "id": "08e1d0c1-acce-43b1-8d4a-034b52010b22",
   "metadata": {},
   "outputs": [
    {
     "data": {
      "text/plain": [
       "0.7397773844205507"
      ]
     },
     "execution_count": 91,
     "metadata": {},
     "output_type": "execute_result"
    }
   ],
   "source": [
    "r2_train_en = metrics.r2_score(ytrain,train_pred_4)\n",
    "r2_train_en"
   ]
  },
  {
   "cell_type": "markdown",
   "id": "117c481f-678e-4d48-8f2d-9fb20fb73766",
   "metadata": {},
   "source": [
    "### **R2 Score (Test Data)**"
   ]
  },
  {
   "cell_type": "code",
   "execution_count": 92,
   "id": "f913861f-4207-4773-b037-b5f09d330611",
   "metadata": {},
   "outputs": [
    {
     "data": {
      "text/plain": [
       "0.6309031006433184"
      ]
     },
     "execution_count": 92,
     "metadata": {},
     "output_type": "execute_result"
    }
   ],
   "source": [
    "r2_test_en = metrics.r2_score(ytest,test_pred_4)\n",
    "r2_test_en"
   ]
  },
  {
   "cell_type": "markdown",
   "id": "c6b5227c-b9e4-43ea-981a-409ea0fd2cbc",
   "metadata": {},
   "source": [
    "### **MSE (Training Data)**"
   ]
  },
  {
   "cell_type": "code",
   "execution_count": 93,
   "id": "55773786-b43c-4170-b263-b260e6d58b19",
   "metadata": {},
   "outputs": [
    {
     "data": {
      "text/plain": [
       "14.508743128384431"
      ]
     },
     "execution_count": 93,
     "metadata": {},
     "output_type": "execute_result"
    }
   ],
   "source": [
    "mse_train_en = mean_squared_error(ytrain,train_pred_4)\n",
    "mse_train_en"
   ]
  },
  {
   "cell_type": "markdown",
   "id": "4e95c6d9-952c-4ec7-9f8d-4f359ffdf820",
   "metadata": {},
   "source": [
    "### **MSE (Test Data)**"
   ]
  },
  {
   "cell_type": "code",
   "execution_count": 94,
   "id": "d827c092-3b5e-414f-8dc1-8afc27509946",
   "metadata": {},
   "outputs": [
    {
     "data": {
      "text/plain": [
       "27.438454140216447"
      ]
     },
     "execution_count": 94,
     "metadata": {},
     "output_type": "execute_result"
    }
   ],
   "source": [
    "mse_test_en = mean_squared_error(ytest,test_pred_4)\n",
    "mse_test_en"
   ]
  },
  {
   "cell_type": "markdown",
   "id": "002a1cf5-90bb-40f7-81b6-d746dcdf7449",
   "metadata": {},
   "source": [
    "### **RMSE (Training Data)**"
   ]
  },
  {
   "cell_type": "code",
   "execution_count": 95,
   "id": "f9ad7642-be00-49b4-a7c0-bbc3de4f86e1",
   "metadata": {},
   "outputs": [
    {
     "data": {
      "text/plain": [
       "3.8090344089262875"
      ]
     },
     "execution_count": 95,
     "metadata": {},
     "output_type": "execute_result"
    }
   ],
   "source": [
    "rmse_train_en = np.sqrt(mean_squared_error(ytrain,train_pred_4))\n",
    "rmse_train_en"
   ]
  },
  {
   "cell_type": "markdown",
   "id": "10644226-5d6d-4254-a9a7-d7712417f7ab",
   "metadata": {},
   "source": [
    "### **RMSE (Test Data)**"
   ]
  },
  {
   "cell_type": "code",
   "execution_count": 96,
   "id": "e5c8bf8b-6895-4744-bde1-1dd7824ce9c0",
   "metadata": {},
   "outputs": [
    {
     "data": {
      "text/plain": [
       "5.238172786403332"
      ]
     },
     "execution_count": 96,
     "metadata": {},
     "output_type": "execute_result"
    }
   ],
   "source": [
    "rmse_test_en = np.sqrt(mean_squared_error(ytest,test_pred_4))\n",
    "rmse_test_en"
   ]
  },
  {
   "cell_type": "markdown",
   "id": "e7870580-fbbf-416b-a065-6882c978b014",
   "metadata": {},
   "source": [
    "# **Ridge Regression Tunning**"
   ]
  },
  {
   "cell_type": "code",
   "execution_count": 97,
   "id": "a2c84d89-f6c5-4831-8c60-b459b75eba53",
   "metadata": {},
   "outputs": [
    {
     "name": "stdout",
     "output_type": "stream",
     "text": [
      "Best_alpha: {'alpha': 0.1}\n",
      "Best_rmse: 3.2442397231886666\n"
     ]
    }
   ],
   "source": [
    "param_grid={'alpha':[0.01,0.1,10,100]}\n",
    "grid=GridSearchCV(Ridge(),param_grid,cv=5, scoring='neg_root_mean_squared_error')\n",
    "grid.fit(Xtrain_fs,ytrain)\n",
    "print('Best_alpha:',grid.best_params_)\n",
    "print('Best_rmse:',-grid.best_score_)"
   ]
  },
  {
   "cell_type": "markdown",
   "id": "9e1dec0a-5e80-4b7a-bebd-2bade0ad4e80",
   "metadata": {},
   "source": [
    "# **Lasso Regression Tunning**"
   ]
  },
  {
   "cell_type": "code",
   "execution_count": 98,
   "id": "8b8c736b-266e-47e2-b31a-12c54b55f551",
   "metadata": {},
   "outputs": [
    {
     "name": "stdout",
     "output_type": "stream",
     "text": [
      "Best alpha: {'alpha': 0.01}\n",
      "Best RMSE: 3.244228247564885\n"
     ]
    }
   ],
   "source": [
    "param_grid = {'alpha': [0.01, 0.1, 1, 10, 100]}\n",
    "grid = GridSearchCV(Lasso(), param_grid, cv=5, scoring='neg_root_mean_squared_error')\n",
    "grid.fit(Xtrain_fs, ytrain)\n",
    "\n",
    "print(\"Best alpha:\", grid.best_params_)\n",
    "print(\"Best RMSE:\", -grid.best_score_)"
   ]
  },
  {
   "cell_type": "markdown",
   "id": "d5ebd8be-5c42-454b-9d43-a8c94cbaf0a5",
   "metadata": {},
   "source": [
    "# **Elastic Regression Tunning**"
   ]
  },
  {
   "cell_type": "code",
   "execution_count": 99,
   "id": "8fec5c81-7828-431b-9b6a-890cbbed468f",
   "metadata": {},
   "outputs": [
    {
     "name": "stdout",
     "output_type": "stream",
     "text": [
      "Best Params: {'alpha': 0.01, 'l1_ratio': 0.1}\n",
      "Best RMSE: 3.243646432109408\n"
     ]
    }
   ],
   "source": [
    "param_grid = {'alpha': [0.01, 0.1, 1, 10],'l1_ratio': [0.1, 0.5, 0.9]}\n",
    "grid = GridSearchCV(ElasticNet(random_state=42), param_grid, cv=5, scoring='neg_root_mean_squared_error')\n",
    "grid.fit(Xtrain_fs, ytrain)\n",
    "\n",
    "print(\"Best Params:\", grid.best_params_)\n",
    "print(\"Best RMSE:\", -grid.best_score_)"
   ]
  },
  {
   "cell_type": "markdown",
   "id": "6a6ce740-a48a-4696-b43c-e93324a1f9fb",
   "metadata": {},
   "source": [
    "# **Ridge Post Tunning**"
   ]
  },
  {
   "cell_type": "code",
   "execution_count": 100,
   "id": "b5f96cd7-6618-49d7-8a83-4148de999aec",
   "metadata": {},
   "outputs": [],
   "source": [
    "rpt = Ridge(alpha = 0.01)\n",
    "model_5= rpt.fit(Xtrain_fs,ytrain)"
   ]
  },
  {
   "cell_type": "markdown",
   "id": "d7b65517-9e92-4273-ad66-c0ca01e70be9",
   "metadata": {},
   "source": [
    "### **Prediction on Training Data**"
   ]
  },
  {
   "cell_type": "code",
   "execution_count": 101,
   "id": "1c317363-33a0-4f36-964d-2b70add781e8",
   "metadata": {},
   "outputs": [],
   "source": [
    "train_pred_5 = model_5.predict(Xtrain_fs)"
   ]
  },
  {
   "cell_type": "markdown",
   "id": "306d0826-9d7c-4db1-9def-38e94fc354c5",
   "metadata": {},
   "source": [
    "### **Prediction On Test Data**"
   ]
  },
  {
   "cell_type": "code",
   "execution_count": 102,
   "id": "cb9e407c-b837-4bc4-aff2-b693fe48be02",
   "metadata": {},
   "outputs": [],
   "source": [
    "test_pred_5 = model_5.predict(Xtest_fs)"
   ]
  },
  {
   "cell_type": "markdown",
   "id": "c402a0c4-87aa-4ccc-b75d-e109a2eb01b8",
   "metadata": {},
   "source": [
    "# **Checking Performance**"
   ]
  },
  {
   "cell_type": "markdown",
   "id": "f973750b-31df-45c5-94ae-6365f53cf29f",
   "metadata": {},
   "source": [
    "### **R2 Score (Train Data)**"
   ]
  },
  {
   "cell_type": "code",
   "execution_count": 103,
   "id": "f01ba0bb-a743-4d58-876e-1d101c99e462",
   "metadata": {},
   "outputs": [
    {
     "data": {
      "text/plain": [
       "0.8216302280701725"
      ]
     },
     "execution_count": 103,
     "metadata": {},
     "output_type": "execute_result"
    }
   ],
   "source": [
    "r2_train_ridge_t = r2_score(ytrain,train_pred_5)\n",
    "r2_train_ridge_t"
   ]
  },
  {
   "cell_type": "markdown",
   "id": "f94c0120-3b2a-49c1-977d-b05b560562a7",
   "metadata": {},
   "source": [
    "### **R2 Score (Test Data)**"
   ]
  },
  {
   "cell_type": "code",
   "execution_count": 104,
   "id": "5aa09e5d-4b80-4e01-81bb-e2045773d037",
   "metadata": {},
   "outputs": [
    {
     "data": {
      "text/plain": [
       "0.779409223276019"
      ]
     },
     "execution_count": 104,
     "metadata": {},
     "output_type": "execute_result"
    }
   ],
   "source": [
    "r2_test_ridge_t = r2_score(ytest,test_pred_5)\n",
    "r2_test_ridge_t"
   ]
  },
  {
   "cell_type": "markdown",
   "id": "fd6f5f18-5ae2-44a6-becf-c43e12bde9a4",
   "metadata": {},
   "source": [
    "### **MSE (Training Data)**"
   ]
  },
  {
   "cell_type": "code",
   "execution_count": 105,
   "id": "f1ab17a1-6924-4700-8923-21dc31d4c715",
   "metadata": {},
   "outputs": [
    {
     "data": {
      "text/plain": [
       "9.945028017782944"
      ]
     },
     "execution_count": 105,
     "metadata": {},
     "output_type": "execute_result"
    }
   ],
   "source": [
    "mse_train_ridge_t = mean_squared_error(train_pred_5,ytrain)\n",
    "mse_train_ridge_t"
   ]
  },
  {
   "cell_type": "markdown",
   "id": "93bcb920-bbf1-4f1a-82ae-d442f7756091",
   "metadata": {},
   "source": [
    "### **MSE (Test Data)**"
   ]
  },
  {
   "cell_type": "code",
   "execution_count": 106,
   "id": "246050f3-b75a-45a7-a68a-3a48ebf2ee05",
   "metadata": {},
   "outputs": [
    {
     "data": {
      "text/plain": [
       "16.39859321886799"
      ]
     },
     "execution_count": 106,
     "metadata": {},
     "output_type": "execute_result"
    }
   ],
   "source": [
    "mse_test_ridge_t = mean_squared_error(test_pred_5,ytest)\n",
    "mse_test_ridge_t"
   ]
  },
  {
   "cell_type": "markdown",
   "id": "bd85650e-a24c-4079-b1ef-05d9ada26656",
   "metadata": {},
   "source": [
    "### **RMSE (Training Data)**"
   ]
  },
  {
   "cell_type": "code",
   "execution_count": 107,
   "id": "42ebeaaf-9c86-4b77-adec-81985a02579b",
   "metadata": {},
   "outputs": [
    {
     "data": {
      "text/plain": [
       "3.153573848474607"
      ]
     },
     "execution_count": 107,
     "metadata": {},
     "output_type": "execute_result"
    }
   ],
   "source": [
    "rmse_train_ridge_t = np.sqrt(mean_squared_error(train_pred_5,ytrain))\n",
    "rmse_train_ridge_t"
   ]
  },
  {
   "cell_type": "markdown",
   "id": "768d8730-fad9-4a09-a070-4adb35683956",
   "metadata": {},
   "source": [
    "### **RMSE (Test Data)**"
   ]
  },
  {
   "cell_type": "code",
   "execution_count": 108,
   "id": "6b8370ea-022a-4ed4-9f07-17abb8e9654b",
   "metadata": {},
   "outputs": [
    {
     "data": {
      "text/plain": [
       "4.049517652618395"
      ]
     },
     "execution_count": 108,
     "metadata": {},
     "output_type": "execute_result"
    }
   ],
   "source": [
    "rmse_test_ridge_t = np.sqrt(mean_squared_error(test_pred_5,ytest))\n",
    "rmse_test_ridge_t"
   ]
  },
  {
   "cell_type": "markdown",
   "id": "e405da9a-fadd-420f-9d15-11aa914f0314",
   "metadata": {},
   "source": [
    "# **Lasso Post Tunning**"
   ]
  },
  {
   "cell_type": "code",
   "execution_count": 109,
   "id": "8b540e8c-c249-42a3-8dc4-b65ba4dadbfb",
   "metadata": {},
   "outputs": [],
   "source": [
    "lpt = Lasso(alpha = 0.01)\n",
    "model_6 = lpt.fit(Xtrain_fs,ytrain)"
   ]
  },
  {
   "cell_type": "markdown",
   "id": "e772a1d0-747a-4e56-aced-d2b944e4f3d4",
   "metadata": {},
   "source": [
    "### **Prediction on Training Data**"
   ]
  },
  {
   "cell_type": "code",
   "execution_count": 110,
   "id": "76d77624-13a1-46af-8c9a-3bc2e84960eb",
   "metadata": {},
   "outputs": [],
   "source": [
    "train_pred_6 = model_6.predict(Xtrain_fs)"
   ]
  },
  {
   "cell_type": "markdown",
   "id": "e5798aa9-3cc6-4737-83cc-2134c5efee5b",
   "metadata": {},
   "source": [
    "### **Prediction on Test Data**"
   ]
  },
  {
   "cell_type": "code",
   "execution_count": 111,
   "id": "fcdc1a86-5bc7-4488-bc22-093c92d03f58",
   "metadata": {},
   "outputs": [],
   "source": [
    "test_pred_6 = model_6.predict(Xtest_fs)"
   ]
  },
  {
   "cell_type": "markdown",
   "id": "202c4ebf-13c3-4ff3-a062-698e37abef29",
   "metadata": {},
   "source": [
    "# **Checking Performance**"
   ]
  },
  {
   "cell_type": "markdown",
   "id": "61281112-855f-48ca-9b46-8404a7bf12cf",
   "metadata": {},
   "source": [
    "### **R2 Score (Training Data)**"
   ]
  },
  {
   "cell_type": "code",
   "execution_count": 112,
   "id": "e9daa243-2acd-4b66-b57d-408cd02db493",
   "metadata": {},
   "outputs": [
    {
     "data": {
      "text/plain": [
       "0.821625836034142"
      ]
     },
     "execution_count": 112,
     "metadata": {},
     "output_type": "execute_result"
    }
   ],
   "source": [
    "r2_train_lasso_t = r2_score(ytrain,train_pred_6)\n",
    "r2_train_lasso_t"
   ]
  },
  {
   "cell_type": "markdown",
   "id": "bdcc7327-493b-4543-801d-387cc2ec2581",
   "metadata": {},
   "source": [
    "### **R2 Score (Test Data)**"
   ]
  },
  {
   "cell_type": "code",
   "execution_count": 113,
   "id": "373b597b-6eef-4d20-88aa-0e13c6cd4d9f",
   "metadata": {},
   "outputs": [
    {
     "data": {
      "text/plain": [
       "0.7790146347043068"
      ]
     },
     "execution_count": 113,
     "metadata": {},
     "output_type": "execute_result"
    }
   ],
   "source": [
    "r2_test_lasso_t = r2_score(ytest,test_pred_6)\n",
    "r2_test_lasso_t"
   ]
  },
  {
   "cell_type": "markdown",
   "id": "a7a6e2cc-1fb7-41b4-97a9-1121286e9399",
   "metadata": {},
   "source": [
    "### **MSE (Training Data)**"
   ]
  },
  {
   "cell_type": "code",
   "execution_count": 114,
   "id": "e080f549-e652-4c47-91a1-84c2a20edd84",
   "metadata": {},
   "outputs": [
    {
     "data": {
      "text/plain": [
       "9.945272896278363"
      ]
     },
     "execution_count": 114,
     "metadata": {},
     "output_type": "execute_result"
    }
   ],
   "source": [
    "mse_train_lasso_t = mean_squared_error(train_pred_6,ytrain)\n",
    "mse_train_lasso_t"
   ]
  },
  {
   "cell_type": "markdown",
   "id": "d010cfb5-8377-4762-aad5-3a350ac6fd3f",
   "metadata": {},
   "source": [
    "### **MSE (Test Data)**"
   ]
  },
  {
   "cell_type": "code",
   "execution_count": 115,
   "id": "dbb3d812-ae63-4a8d-a095-11751542f738",
   "metadata": {},
   "outputs": [
    {
     "data": {
      "text/plain": [
       "16.42792670947181"
      ]
     },
     "execution_count": 115,
     "metadata": {},
     "output_type": "execute_result"
    }
   ],
   "source": [
    "mse_test_lasso_t = mean_squared_error(test_pred_6,ytest)\n",
    "mse_test_lasso_t"
   ]
  },
  {
   "cell_type": "markdown",
   "id": "d68869c8-d7f3-47aa-8c45-ae0f8423f1dd",
   "metadata": {},
   "source": [
    "### **RMSE (Training Data)**"
   ]
  },
  {
   "cell_type": "code",
   "execution_count": 116,
   "id": "5a6a3d80-fc5e-4991-a1a2-d47fa5ad821b",
   "metadata": {},
   "outputs": [
    {
     "data": {
      "text/plain": [
       "3.153612673788327"
      ]
     },
     "execution_count": 116,
     "metadata": {},
     "output_type": "execute_result"
    }
   ],
   "source": [
    "rmse_train_lasso_t = np.sqrt(mean_squared_error(train_pred_6,ytrain))\n",
    "rmse_train_lasso_t"
   ]
  },
  {
   "cell_type": "markdown",
   "id": "0305640d-d5fc-43ce-baca-4086156cf058",
   "metadata": {},
   "source": [
    "### **RMSE (Test Data)**"
   ]
  },
  {
   "cell_type": "code",
   "execution_count": 117,
   "id": "8e6e4e2c-98ef-49cc-a6c1-daa2c8faf92a",
   "metadata": {},
   "outputs": [
    {
     "data": {
      "text/plain": [
       "4.05313788433996"
      ]
     },
     "execution_count": 117,
     "metadata": {},
     "output_type": "execute_result"
    }
   ],
   "source": [
    "rmse_test_lasso_t = np.sqrt(mean_squared_error(test_pred_6,ytest))\n",
    "rmse_test_lasso_t"
   ]
  },
  {
   "cell_type": "markdown",
   "id": "93b9a182-8902-4561-8351-22ff4e5f31ce",
   "metadata": {},
   "source": [
    "# **Elastic Net Post Tunning**"
   ]
  },
  {
   "cell_type": "code",
   "execution_count": 118,
   "id": "be2f4a86-0d33-4382-ba4d-9cfca0524fa0",
   "metadata": {},
   "outputs": [],
   "source": [
    "enpt= ElasticNet(alpha=0.01,l1_ratio=0.9,random_state=7)\n",
    "model_7 = enpt.fit(Xtrain_fs, ytrain)"
   ]
  },
  {
   "cell_type": "markdown",
   "id": "7b4b8305-1a98-4813-a54b-01d09ff8e1ce",
   "metadata": {},
   "source": [
    "### **Prediction on Training Data**"
   ]
  },
  {
   "cell_type": "code",
   "execution_count": 119,
   "id": "e257ca64-5598-4e39-aed8-8f12f8170f39",
   "metadata": {},
   "outputs": [],
   "source": [
    "train_pred_7 = model_7.predict(Xtrain_fs)"
   ]
  },
  {
   "cell_type": "markdown",
   "id": "418d5004-0c86-40cc-9053-182e58df5098",
   "metadata": {},
   "source": [
    "### **Prediction on Test Data**"
   ]
  },
  {
   "cell_type": "code",
   "execution_count": 120,
   "id": "8021438f-ddc2-418d-bc5e-37c96a2cd62c",
   "metadata": {},
   "outputs": [],
   "source": [
    "test_pred_7 = model_7.predict(Xtest_fs)"
   ]
  },
  {
   "cell_type": "markdown",
   "id": "d882104c-6b18-4f12-91a5-5721423df055",
   "metadata": {},
   "source": [
    "# **Checking Performance**"
   ]
  },
  {
   "cell_type": "markdown",
   "id": "ac6214a9-24f8-40e7-8ed6-e0ac454410cd",
   "metadata": {},
   "source": [
    "### **R2 Score (Training Data)**"
   ]
  },
  {
   "cell_type": "code",
   "execution_count": 121,
   "id": "cbdcb8c7-11c0-4058-8636-e32330102666",
   "metadata": {},
   "outputs": [
    {
     "data": {
      "text/plain": [
       "0.8216251891125655"
      ]
     },
     "execution_count": 121,
     "metadata": {},
     "output_type": "execute_result"
    }
   ],
   "source": [
    "r2_train_en_t = r2_score(ytrain,train_pred_7)\n",
    "r2_train_en_t"
   ]
  },
  {
   "cell_type": "markdown",
   "id": "8ab79a8f-58ff-4a58-8b1d-47b48ac32036",
   "metadata": {},
   "source": [
    "### **R2 Score (Test Data)**"
   ]
  },
  {
   "cell_type": "code",
   "execution_count": 122,
   "id": "27cc881d-1c32-46c2-869c-cc6fcaa5d287",
   "metadata": {},
   "outputs": [
    {
     "data": {
      "text/plain": [
       "0.778839070048003"
      ]
     },
     "execution_count": 122,
     "metadata": {},
     "output_type": "execute_result"
    }
   ],
   "source": [
    "r2_test_en_t = r2_score(ytest,test_pred_7)\n",
    "r2_test_en_t"
   ]
  },
  {
   "cell_type": "markdown",
   "id": "49955f90-6fab-4a16-a06f-65323e5c05a1",
   "metadata": {},
   "source": [
    "### **MSE (Training Data)**"
   ]
  },
  {
   "cell_type": "code",
   "execution_count": 123,
   "id": "e06ce83e-a376-4d3f-8c13-468d93246260",
   "metadata": {},
   "outputs": [
    {
     "data": {
      "text/plain": [
       "9.945308965468412"
      ]
     },
     "execution_count": 123,
     "metadata": {},
     "output_type": "execute_result"
    }
   ],
   "source": [
    "mse_train_en_t = mean_squared_error(ytrain,train_pred_7)\n",
    "mse_train_en_t"
   ]
  },
  {
   "cell_type": "markdown",
   "id": "11fbc72b-921b-4750-a94f-3caca5ae12da",
   "metadata": {},
   "source": [
    "### **MSE (Test Data)**"
   ]
  },
  {
   "cell_type": "code",
   "execution_count": 124,
   "id": "a56c7131-87a7-4b5c-a82f-a97c29d0a429",
   "metadata": {},
   "outputs": [
    {
     "data": {
      "text/plain": [
       "16.44097808643821"
      ]
     },
     "execution_count": 124,
     "metadata": {},
     "output_type": "execute_result"
    }
   ],
   "source": [
    "mse_test_en_t = mean_squared_error(ytest,test_pred_7)\n",
    "mse_test_en_t"
   ]
  },
  {
   "cell_type": "markdown",
   "id": "c1efb0b2-88ba-43f2-bbaa-852951efa388",
   "metadata": {},
   "source": [
    "### **RMSE (Training Data)**"
   ]
  },
  {
   "cell_type": "code",
   "execution_count": 125,
   "id": "e91727cd-ca1e-497a-afa0-d99ba0a8959a",
   "metadata": {},
   "outputs": [
    {
     "data": {
      "text/plain": [
       "3.153618392492727"
      ]
     },
     "execution_count": 125,
     "metadata": {},
     "output_type": "execute_result"
    }
   ],
   "source": [
    "rmse_train_en_t = np.sqrt(mean_squared_error(ytrain,train_pred_7))\n",
    "rmse_train_en_t"
   ]
  },
  {
   "cell_type": "markdown",
   "id": "14598011-97e1-400a-a07c-7d2439e55e4c",
   "metadata": {},
   "source": [
    "### **RMSE (Test Data)**"
   ]
  },
  {
   "cell_type": "code",
   "execution_count": 126,
   "id": "d2adbac0-9a08-4e9d-9bd7-fb92062862be",
   "metadata": {},
   "outputs": [
    {
     "data": {
      "text/plain": [
       "4.0547475983639485"
      ]
     },
     "execution_count": 126,
     "metadata": {},
     "output_type": "execute_result"
    }
   ],
   "source": [
    "rmse_test_en_t = np.sqrt(mean_squared_error(ytest,test_pred_7))\n",
    "rmse_test_en_t"
   ]
  },
  {
   "cell_type": "code",
   "execution_count": 127,
   "id": "6757f271-7066-4e22-86ac-7f5046cc9a34",
   "metadata": {},
   "outputs": [],
   "source": [
    "results = []\n",
    "\n",
    "results.append(['Linear Regression', mse_train_lr, mse_test_lr, rmse_train_lr, rmse_test_lr, r2_train_lr, r2_test_lr])\n",
    "results.append(['Ridge', mse_train_ridge, mse_test_ridge, rmse_train_ridge, rmse_test_ridge, r2_train_ridge, r2_test_ridge])\n",
    "results.append(['Lasso', mse_train_lasso, mse_test_lasso, rmse_train_lasso, rmse_test_lasso, r2_train_lasso, r2_test_lasso])\n",
    "results.append(['ElasticNet', mse_train_en, mse_test_en, rmse_train_en, rmse_test_en, r2_train_en, r2_test_en])\n",
    "results.append(['Ridge (Tuned)', mse_train_ridge_t, mse_test_ridge_t, rmse_train_ridge_t, rmse_test_ridge_t, r2_train_ridge_t, r2_test_ridge_t])\n",
    "results.append(['Lasso (Tuned)', mse_train_lasso_t, mse_test_lasso_t, rmse_train_lasso_t, rmse_test_lasso_t, r2_train_lasso_t, r2_test_lasso_t])\n",
    "results.append(['ElasticNet (Tuned)', mse_train_en_t, mse_test_en_t, rmse_train_en_t, rmse_test_en_t, r2_train_en_t, r2_test_en_t])\n",
    "\n",
    "columns = ['Model', 'Train MSE', 'Test MSE', 'Train RMSE', 'Test RMSE', 'Train R²', 'Test R²']\n",
    "results_df = pd.DataFrame(results, columns=columns)\n"
   ]
  },
  {
   "cell_type": "code",
   "execution_count": 128,
   "id": "2613c3eb-2eb1-48a2-b58f-97a4f0ac0afe",
   "metadata": {},
   "outputs": [
    {
     "data": {
      "text/html": [
       "<div>\n",
       "<style scoped>\n",
       "    .dataframe tbody tr th:only-of-type {\n",
       "        vertical-align: middle;\n",
       "    }\n",
       "\n",
       "    .dataframe tbody tr th {\n",
       "        vertical-align: top;\n",
       "    }\n",
       "\n",
       "    .dataframe thead th {\n",
       "        text-align: right;\n",
       "    }\n",
       "</style>\n",
       "<table border=\"1\" class=\"dataframe\">\n",
       "  <thead>\n",
       "    <tr style=\"text-align: right;\">\n",
       "      <th></th>\n",
       "      <th>Model</th>\n",
       "      <th>Train MSE</th>\n",
       "      <th>Test MSE</th>\n",
       "      <th>Train RMSE</th>\n",
       "      <th>Test RMSE</th>\n",
       "      <th>Train R²</th>\n",
       "      <th>Test R²</th>\n",
       "    </tr>\n",
       "  </thead>\n",
       "  <tbody>\n",
       "    <tr>\n",
       "      <th>0</th>\n",
       "      <td>Linear Regression</td>\n",
       "      <td>9.945028</td>\n",
       "      <td>16.398082</td>\n",
       "      <td>3.153574</td>\n",
       "      <td>4.049455</td>\n",
       "      <td>0.821630</td>\n",
       "      <td>0.779416</td>\n",
       "    </tr>\n",
       "    <tr>\n",
       "      <th>1</th>\n",
       "      <td>Ridge</td>\n",
       "      <td>9.945335</td>\n",
       "      <td>16.449282</td>\n",
       "      <td>3.153622</td>\n",
       "      <td>4.055771</td>\n",
       "      <td>0.821625</td>\n",
       "      <td>0.778727</td>\n",
       "    </tr>\n",
       "    <tr>\n",
       "      <th>2</th>\n",
       "      <td>Lasso</td>\n",
       "      <td>12.106719</td>\n",
       "      <td>21.488241</td>\n",
       "      <td>3.479471</td>\n",
       "      <td>4.635541</td>\n",
       "      <td>0.782859</td>\n",
       "      <td>0.710944</td>\n",
       "    </tr>\n",
       "    <tr>\n",
       "      <th>3</th>\n",
       "      <td>ElasticNet</td>\n",
       "      <td>14.508743</td>\n",
       "      <td>27.438454</td>\n",
       "      <td>3.809034</td>\n",
       "      <td>5.238173</td>\n",
       "      <td>0.739777</td>\n",
       "      <td>0.630903</td>\n",
       "    </tr>\n",
       "    <tr>\n",
       "      <th>4</th>\n",
       "      <td>Ridge (Tuned)</td>\n",
       "      <td>9.945028</td>\n",
       "      <td>16.398593</td>\n",
       "      <td>3.153574</td>\n",
       "      <td>4.049518</td>\n",
       "      <td>0.821630</td>\n",
       "      <td>0.779409</td>\n",
       "    </tr>\n",
       "    <tr>\n",
       "      <th>5</th>\n",
       "      <td>Lasso (Tuned)</td>\n",
       "      <td>9.945273</td>\n",
       "      <td>16.427927</td>\n",
       "      <td>3.153613</td>\n",
       "      <td>4.053138</td>\n",
       "      <td>0.821626</td>\n",
       "      <td>0.779015</td>\n",
       "    </tr>\n",
       "    <tr>\n",
       "      <th>6</th>\n",
       "      <td>ElasticNet (Tuned)</td>\n",
       "      <td>9.945309</td>\n",
       "      <td>16.440978</td>\n",
       "      <td>3.153618</td>\n",
       "      <td>4.054748</td>\n",
       "      <td>0.821625</td>\n",
       "      <td>0.778839</td>\n",
       "    </tr>\n",
       "  </tbody>\n",
       "</table>\n",
       "</div>"
      ],
      "text/plain": [
       "                Model  Train MSE   Test MSE  Train RMSE  Test RMSE  Train R²  \\\n",
       "0   Linear Regression   9.945028  16.398082    3.153574   4.049455  0.821630   \n",
       "1               Ridge   9.945335  16.449282    3.153622   4.055771  0.821625   \n",
       "2               Lasso  12.106719  21.488241    3.479471   4.635541  0.782859   \n",
       "3          ElasticNet  14.508743  27.438454    3.809034   5.238173  0.739777   \n",
       "4       Ridge (Tuned)   9.945028  16.398593    3.153574   4.049518  0.821630   \n",
       "5       Lasso (Tuned)   9.945273  16.427927    3.153613   4.053138  0.821626   \n",
       "6  ElasticNet (Tuned)   9.945309  16.440978    3.153618   4.054748  0.821625   \n",
       "\n",
       "    Test R²  \n",
       "0  0.779416  \n",
       "1  0.778727  \n",
       "2  0.710944  \n",
       "3  0.630903  \n",
       "4  0.779409  \n",
       "5  0.779015  \n",
       "6  0.778839  "
      ]
     },
     "execution_count": 128,
     "metadata": {},
     "output_type": "execute_result"
    }
   ],
   "source": [
    "results_df"
   ]
  },
  {
   "cell_type": "markdown",
   "id": "2dde5054-4b5c-492d-89a5-cc44f90ec1c9",
   "metadata": {},
   "source": [
    "### **Conclusion:**\n",
    "- Linear Regression gives the best performance with the lowest RMSE and highest R².\n",
    "- Best suited for making accurate MPG predictions."
   ]
  }
 ],
 "metadata": {
  "kernelspec": {
   "display_name": "Python 3 (ipykernel)",
   "language": "python",
   "name": "python3"
  },
  "language_info": {
   "codemirror_mode": {
    "name": "ipython",
    "version": 3
   },
   "file_extension": ".py",
   "mimetype": "text/x-python",
   "name": "python",
   "nbconvert_exporter": "python",
   "pygments_lexer": "ipython3",
   "version": "3.12.7"
  }
 },
 "nbformat": 4,
 "nbformat_minor": 5
}
